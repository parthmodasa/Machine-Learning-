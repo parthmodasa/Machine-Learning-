{
  "nbformat": 4,
  "nbformat_minor": 0,
  "metadata": {
    "colab": {
      "name": "TransferLearning.ipynb",
      "provenance": [],
      "collapsed_sections": []
    },
    "kernelspec": {
      "name": "python3",
      "display_name": "Python 3"
    },
    "accelerator": "GPU"
  },
  "cells": [
    {
      "cell_type": "code",
      "metadata": {
        "id": "o0zYE_ocTBoG",
        "colab_type": "code",
        "outputId": "84d34389-62d5-4b0e-840a-5a72eb6b5ead",
        "colab": {
          "base_uri": "https://localhost:8080/",
          "height": 224
        }
      },
      "source": [
        "! wget --header=\"Host: doc-14-24-docs.googleusercontent.com\" --header=\"User-Agent: Mozilla/5.0 (Windows NT 10.0; Win64; x64) AppleWebKit/537.36 (KHTML, like Gecko) Chrome/81.0.4044.122 Safari/537.36\" --header=\"Accept: text/html,application/xhtml+xml,application/xml;q=0.9,image/webp,image/apng,*/*;q=0.8,application/signed-exchange;v=b3;q=0.9\" --header=\"Accept-Language: en-US,en;q=0.9\" --header=\"Referer: https://drive.google.com/drive/folders/1eY4pTqtGtXSAYVzaHwWAK2Cq4bHb1Zkq\" --header=\"Cookie: AUTH_t5qon8tobs4crgo9e5mfjphsf8l1st7h_nonce=ejl9auk692ojc\" --header=\"Connection: keep-alive\" \"https://doc-14-24-docs.googleusercontent.com/docs/securesc/nji0agiogjqo3r2b8t0lib5qttb9sgab/1g4tsv0nhpbnh00lf103vbnrsli7gbt0/1587878250000/00484516897554883881/00113621618736444193/1Z4TyI7FcFVEx8qdl4jO9qxvxaqLSqoEu?e=download&authuser=0&nonce=ejl9auk692ojc&user=00113621618736444193&hash=nqsb654ga5o3u03g898m52q5r8upk3f7\" -c -O 'rvl-cdip.rar'"
      ],
      "execution_count": 2,
      "outputs": [
        {
          "output_type": "stream",
          "text": [
            "--2020-04-26 05:18:58--  https://doc-14-24-docs.googleusercontent.com/docs/securesc/nji0agiogjqo3r2b8t0lib5qttb9sgab/1g4tsv0nhpbnh00lf103vbnrsli7gbt0/1587878250000/00484516897554883881/00113621618736444193/1Z4TyI7FcFVEx8qdl4jO9qxvxaqLSqoEu?e=download&authuser=0&nonce=ejl9auk692ojc&user=00113621618736444193&hash=nqsb654ga5o3u03g898m52q5r8upk3f7\n",
            "Resolving doc-14-24-docs.googleusercontent.com (doc-14-24-docs.googleusercontent.com)... 172.217.7.129, 2607:f8b0:4004:805::2001\n",
            "Connecting to doc-14-24-docs.googleusercontent.com (doc-14-24-docs.googleusercontent.com)|172.217.7.129|:443... connected.\n",
            "HTTP request sent, awaiting response... 200 OK\n",
            "Length: unspecified [application/rar]\n",
            "Saving to: ‘rvl-cdip.rar’\n",
            "\n",
            "rvl-cdip.rar            [             <=>    ]   4.34G  66.4MB/s    in 88s     \n",
            "\n",
            "2020-04-26 05:20:26 (50.8 MB/s) - ‘rvl-cdip.rar’ saved [4660541790]\n",
            "\n"
          ],
          "name": "stdout"
        }
      ]
    },
    {
      "cell_type": "code",
      "metadata": {
        "id": "qQKCFJQxt2ZT",
        "colab_type": "code",
        "outputId": "e8566638-a2d4-45eb-bc0b-0d6c487940d2",
        "colab": {
          "base_uri": "https://localhost:8080/",
          "height": 51
        }
      },
      "source": [
        "import os \n",
        "print(os.getcwd())\n",
        "print(os.listdir())"
      ],
      "execution_count": 3,
      "outputs": [
        {
          "output_type": "stream",
          "text": [
            "/content\n",
            "['.config', 'rvl-cdip.rar', 'sample_data']\n"
          ],
          "name": "stdout"
        }
      ]
    },
    {
      "cell_type": "code",
      "metadata": {
        "id": "pHyBq962ic9t",
        "colab_type": "code",
        "outputId": "427b8f78-7c66-47fd-ccf9-2813ab9c13b6",
        "colab": {
          "base_uri": "https://localhost:8080/",
          "height": 224
        }
      },
      "source": [
        "! pip install pyunpack"
      ],
      "execution_count": 4,
      "outputs": [
        {
          "output_type": "stream",
          "text": [
            "Collecting pyunpack\n",
            "  Downloading https://files.pythonhosted.org/packages/79/dc/44cd41fb99d184ae7c2eac439a52ca624d5ece62b0302c3437fcc4ce3b58/pyunpack-0.1.2.tar.gz\n",
            "Collecting easyprocess\n",
            "  Downloading https://files.pythonhosted.org/packages/32/8f/88d636f1da22a3c573259e44cfefb46a117d3f9432e2c98b1ab4a21372ad/EasyProcess-0.2.10-py2.py3-none-any.whl\n",
            "Building wheels for collected packages: pyunpack\n",
            "  Building wheel for pyunpack (setup.py) ... \u001b[?25l\u001b[?25hdone\n",
            "  Created wheel for pyunpack: filename=pyunpack-0.1.2-cp36-none-any.whl size=5163 sha256=1308b703c90888b7621d4954bfd5010336effe0f50061ed5bf3572b271d4e791\n",
            "  Stored in directory: /root/.cache/pip/wheels/af/44/08/60613970881e542c0baad1f2dea5ed8e6716bc573f49197b7e\n",
            "Successfully built pyunpack\n",
            "Installing collected packages: easyprocess, pyunpack\n",
            "Successfully installed easyprocess-0.2.10 pyunpack-0.1.2\n"
          ],
          "name": "stdout"
        }
      ]
    },
    {
      "cell_type": "code",
      "metadata": {
        "id": "saqvNE65irUW",
        "colab_type": "code",
        "outputId": "58844b5b-4a86-4626-96f9-e01962698400",
        "colab": {
          "base_uri": "https://localhost:8080/",
          "height": 122
        }
      },
      "source": [
        "!pip install patool"
      ],
      "execution_count": 5,
      "outputs": [
        {
          "output_type": "stream",
          "text": [
            "Collecting patool\n",
            "\u001b[?25l  Downloading https://files.pythonhosted.org/packages/43/94/52243ddff508780dd2d8110964320ab4851134a55ab102285b46e740f76a/patool-1.12-py2.py3-none-any.whl (77kB)\n",
            "\r\u001b[K     |████▎                           | 10kB 28.4MB/s eta 0:00:01\r\u001b[K     |████████▌                       | 20kB 33.7MB/s eta 0:00:01\r\u001b[K     |████████████▊                   | 30kB 37.2MB/s eta 0:00:01\r\u001b[K     |█████████████████               | 40kB 22.9MB/s eta 0:00:01\r\u001b[K     |█████████████████████▏          | 51kB 26.3MB/s eta 0:00:01\r\u001b[K     |█████████████████████████▍      | 61kB 29.3MB/s eta 0:00:01\r\u001b[K     |█████████████████████████████▋  | 71kB 17.7MB/s eta 0:00:01\r\u001b[K     |████████████████████████████████| 81kB 8.3MB/s \n",
            "\u001b[?25hInstalling collected packages: patool\n",
            "Successfully installed patool-1.12\n"
          ],
          "name": "stdout"
        }
      ]
    },
    {
      "cell_type": "code",
      "metadata": {
        "id": "bw_uZT3qT-aX",
        "colab_type": "code",
        "colab": {}
      },
      "source": [
        "from pyunpack import Archive\n",
        "Archive('rvl-cdip.rar').extractall('image_data')"
      ],
      "execution_count": 0,
      "outputs": []
    },
    {
      "cell_type": "code",
      "metadata": {
        "id": "PlGGBbOM_V9u",
        "colab_type": "code",
        "colab": {}
      },
      "source": [
        "import pandas as pd\n",
        "datafile = pd.read_csv('/content/image_data/labels_final.csv',dtype=str)"
      ],
      "execution_count": 0,
      "outputs": []
    },
    {
      "cell_type": "code",
      "metadata": {
        "id": "ClddqteA_g8R",
        "colab_type": "code",
        "colab": {}
      },
      "source": [
        "import tensorflow as tf\n",
        "ImageFlow = tf.keras.preprocessing.image.ImageDataGenerator(validation_split=0.25)"
      ],
      "execution_count": 0,
      "outputs": []
    },
    {
      "cell_type": "code",
      "metadata": {
        "id": "S6-AtB_eMo6J",
        "colab_type": "code",
        "outputId": "7c6aa728-35b4-4584-afb0-e244dc3fb5a9",
        "colab": {
          "base_uri": "https://localhost:8080/",
          "height": 204
        }
      },
      "source": [
        "datafile.head()"
      ],
      "execution_count": 9,
      "outputs": [
        {
          "output_type": "execute_result",
          "data": {
            "text/html": [
              "<div>\n",
              "<style scoped>\n",
              "    .dataframe tbody tr th:only-of-type {\n",
              "        vertical-align: middle;\n",
              "    }\n",
              "\n",
              "    .dataframe tbody tr th {\n",
              "        vertical-align: top;\n",
              "    }\n",
              "\n",
              "    .dataframe thead th {\n",
              "        text-align: right;\n",
              "    }\n",
              "</style>\n",
              "<table border=\"1\" class=\"dataframe\">\n",
              "  <thead>\n",
              "    <tr style=\"text-align: right;\">\n",
              "      <th></th>\n",
              "      <th>path</th>\n",
              "      <th>label</th>\n",
              "    </tr>\n",
              "  </thead>\n",
              "  <tbody>\n",
              "    <tr>\n",
              "      <th>0</th>\n",
              "      <td>imagesv/v/o/h/voh71d00/509132755+-2755.tif</td>\n",
              "      <td>3</td>\n",
              "    </tr>\n",
              "    <tr>\n",
              "      <th>1</th>\n",
              "      <td>imagesl/l/x/t/lxt19d00/502213303.tif</td>\n",
              "      <td>3</td>\n",
              "    </tr>\n",
              "    <tr>\n",
              "      <th>2</th>\n",
              "      <td>imagesx/x/e/d/xed05a00/2075325674.tif</td>\n",
              "      <td>2</td>\n",
              "    </tr>\n",
              "    <tr>\n",
              "      <th>3</th>\n",
              "      <td>imageso/o/j/b/ojb60d00/517511301+-1301.tif</td>\n",
              "      <td>3</td>\n",
              "    </tr>\n",
              "    <tr>\n",
              "      <th>4</th>\n",
              "      <td>imagesq/q/z/k/qzk17e00/2031320195.tif</td>\n",
              "      <td>7</td>\n",
              "    </tr>\n",
              "  </tbody>\n",
              "</table>\n",
              "</div>"
            ],
            "text/plain": [
              "                                         path label\n",
              "0  imagesv/v/o/h/voh71d00/509132755+-2755.tif     3\n",
              "1        imagesl/l/x/t/lxt19d00/502213303.tif     3\n",
              "2       imagesx/x/e/d/xed05a00/2075325674.tif     2\n",
              "3  imageso/o/j/b/ojb60d00/517511301+-1301.tif     3\n",
              "4       imagesq/q/z/k/qzk17e00/2031320195.tif     7"
            ]
          },
          "metadata": {
            "tags": []
          },
          "execution_count": 9
        }
      ]
    },
    {
      "cell_type": "code",
      "metadata": {
        "id": "mEe5NCq3nI7o",
        "colab_type": "code",
        "outputId": "08e11975-5404-4c07-f195-f70737220949",
        "colab": {
          "base_uri": "https://localhost:8080/",
          "height": 51
        }
      },
      "source": [
        "datafile['label'].unique()"
      ],
      "execution_count": 0,
      "outputs": [
        {
          "output_type": "execute_result",
          "data": {
            "text/plain": [
              "array(['3', '2', '7', '4', '1', '13', '5', '6', '0', '15', '11', '8',\n",
              "       '14', '10', '12', '9'], dtype=object)"
            ]
          },
          "metadata": {
            "tags": []
          },
          "execution_count": 47
        }
      ]
    },
    {
      "cell_type": "code",
      "metadata": {
        "id": "Uy-I0fUhUUDD",
        "colab_type": "code",
        "outputId": "386be675-f13c-4dd7-be92-9c5c995aca8d",
        "colab": {
          "base_uri": "https://localhost:8080/",
          "height": 34
        }
      },
      "source": [
        "train_generator = ImageFlow.flow_from_dataframe(\n",
        "        dataframe=datafile,\n",
        "        directory='/content/image_data/data_final/',\n",
        "        x_col=\"path\",\n",
        "        y_col=\"label\",\n",
        "        target_size=(156, 156),\n",
        "        shuffle = True,\n",
        "        subset = \"training\",\n",
        "        batch_size=128,\n",
        "        class_mode='categorical')"
      ],
      "execution_count": 10,
      "outputs": [
        {
          "output_type": "stream",
          "text": [
            "Found 36000 validated image filenames belonging to 16 classes.\n"
          ],
          "name": "stdout"
        }
      ]
    },
    {
      "cell_type": "code",
      "metadata": {
        "id": "Lsc7ico_joHq",
        "colab_type": "code",
        "outputId": "21db7fce-6371-4c22-a22b-c4b306206769",
        "colab": {
          "base_uri": "https://localhost:8080/",
          "height": 34
        }
      },
      "source": [
        "val_generator = ImageFlow.flow_from_dataframe(\n",
        "        dataframe=datafile,\n",
        "        directory='/content/image_data/data_final/',\n",
        "        x_col=\"path\",\n",
        "        y_col=\"label\",\n",
        "        target_size=(156, 156),\n",
        "        shuffle = True,\n",
        "        subset = \"validation\",\n",
        "        batch_size=128,\n",
        "        class_mode='categorical')"
      ],
      "execution_count": 11,
      "outputs": [
        {
          "output_type": "stream",
          "text": [
            "Found 12000 validated image filenames belonging to 16 classes.\n"
          ],
          "name": "stdout"
        }
      ]
    },
    {
      "cell_type": "markdown",
      "metadata": {
        "id": "zUjUrhmEA7GP",
        "colab_type": "text"
      },
      "source": [
        "Import files"
      ]
    },
    {
      "cell_type": "code",
      "metadata": {
        "id": "tZbQwMOnA08h",
        "colab_type": "code",
        "colab": {}
      },
      "source": [
        "import numpy as np\n",
        "import tensorflow as tf\n",
        "from tensorflow.keras.preprocessing.image import ImageDataGenerator\n",
        "from tensorflow.keras.models import Sequential,Model\n",
        "#from keras.layers import Dropout, Flatten, Dense , Conv1D , Conv2D , Dense  , MaxPooling2D\n",
        "from tensorflow.keras import applications\n",
        "from tensorflow.keras.callbacks import EarlyStopping\n",
        "import datetime"
      ],
      "execution_count": 0,
      "outputs": []
    },
    {
      "cell_type": "markdown",
      "metadata": {
        "id": "oSWeKiDAAg2e",
        "colab_type": "text"
      },
      "source": [
        "Model1"
      ]
    },
    {
      "cell_type": "code",
      "metadata": {
        "id": "MhH6WXhmGCp1",
        "colab_type": "code",
        "outputId": "982391b7-8117-4272-9ac4-47e7f3b19757",
        "colab": {
          "base_uri": "https://localhost:8080/",
          "height": 34
        }
      },
      "source": [
        "# Clear any logs from previous runs\n",
        "!rm -rf ./logs/\n",
        "log_dir=\"logs/fit/\" + datetime.datetime.now().strftime(\"%Y%m%d-%H%M%S\")\n",
        "tensorboard_callback = tf.keras.callbacks.TensorBoard(log_dir=log_dir,histogram_freq=1, write_graph=True,write_grads=True)\n"
      ],
      "execution_count": 14,
      "outputs": [
        {
          "output_type": "stream",
          "text": [
            "WARNING:tensorflow:`write_grads` will be ignored in TensorFlow 2.0 for the `TensorBoard` Callback.\n"
          ],
          "name": "stdout"
        }
      ]
    },
    {
      "cell_type": "code",
      "metadata": {
        "id": "GcWEUL91HTej",
        "colab_type": "code",
        "colab": {}
      },
      "source": [
        ""
      ],
      "execution_count": 0,
      "outputs": []
    },
    {
      "cell_type": "code",
      "metadata": {
        "id": "yyjqZx35MKQl",
        "colab_type": "code",
        "colab": {
          "base_uri": "https://localhost:8080/",
          "height": 71
        },
        "outputId": "c1b113bc-482e-424d-8e4c-cb14baf83666"
      },
      "source": [
        "vgg = tf.keras.applications.VGG16(include_top=False, weights='imagenet',input_shape=(156,156,3))\n",
        "x = vgg.output"
      ],
      "execution_count": 15,
      "outputs": [
        {
          "output_type": "stream",
          "text": [
            "Downloading data from https://storage.googleapis.com/tensorflow/keras-applications/vgg16/vgg16_weights_tf_dim_ordering_tf_kernels_notop.h5\n",
            "58892288/58889256 [==============================] - 0s 0us/step\n"
          ],
          "name": "stdout"
        }
      ]
    },
    {
      "cell_type": "code",
      "metadata": {
        "id": "klGNGttlpdVF",
        "colab_type": "code",
        "colab": {}
      },
      "source": [
        "for layer in vgg.layers:\n",
        "  layer.trainable = False"
      ],
      "execution_count": 0,
      "outputs": []
    },
    {
      "cell_type": "code",
      "metadata": {
        "id": "_Lt37AabqORx",
        "colab_type": "code",
        "outputId": "77a02ebb-6399-4108-c919-827716f36a8a",
        "colab": {
          "base_uri": "https://localhost:8080/",
          "height": 799
        }
      },
      "source": [
        "vgg.summary()"
      ],
      "execution_count": 17,
      "outputs": [
        {
          "output_type": "stream",
          "text": [
            "Model: \"vgg16\"\n",
            "_________________________________________________________________\n",
            "Layer (type)                 Output Shape              Param #   \n",
            "=================================================================\n",
            "input_1 (InputLayer)         [(None, 156, 156, 3)]     0         \n",
            "_________________________________________________________________\n",
            "block1_conv1 (Conv2D)        (None, 156, 156, 64)      1792      \n",
            "_________________________________________________________________\n",
            "block1_conv2 (Conv2D)        (None, 156, 156, 64)      36928     \n",
            "_________________________________________________________________\n",
            "block1_pool (MaxPooling2D)   (None, 78, 78, 64)        0         \n",
            "_________________________________________________________________\n",
            "block2_conv1 (Conv2D)        (None, 78, 78, 128)       73856     \n",
            "_________________________________________________________________\n",
            "block2_conv2 (Conv2D)        (None, 78, 78, 128)       147584    \n",
            "_________________________________________________________________\n",
            "block2_pool (MaxPooling2D)   (None, 39, 39, 128)       0         \n",
            "_________________________________________________________________\n",
            "block3_conv1 (Conv2D)        (None, 39, 39, 256)       295168    \n",
            "_________________________________________________________________\n",
            "block3_conv2 (Conv2D)        (None, 39, 39, 256)       590080    \n",
            "_________________________________________________________________\n",
            "block3_conv3 (Conv2D)        (None, 39, 39, 256)       590080    \n",
            "_________________________________________________________________\n",
            "block3_pool (MaxPooling2D)   (None, 19, 19, 256)       0         \n",
            "_________________________________________________________________\n",
            "block4_conv1 (Conv2D)        (None, 19, 19, 512)       1180160   \n",
            "_________________________________________________________________\n",
            "block4_conv2 (Conv2D)        (None, 19, 19, 512)       2359808   \n",
            "_________________________________________________________________\n",
            "block4_conv3 (Conv2D)        (None, 19, 19, 512)       2359808   \n",
            "_________________________________________________________________\n",
            "block4_pool (MaxPooling2D)   (None, 9, 9, 512)         0         \n",
            "_________________________________________________________________\n",
            "block5_conv1 (Conv2D)        (None, 9, 9, 512)         2359808   \n",
            "_________________________________________________________________\n",
            "block5_conv2 (Conv2D)        (None, 9, 9, 512)         2359808   \n",
            "_________________________________________________________________\n",
            "block5_conv3 (Conv2D)        (None, 9, 9, 512)         2359808   \n",
            "_________________________________________________________________\n",
            "block5_pool (MaxPooling2D)   (None, 4, 4, 512)         0         \n",
            "=================================================================\n",
            "Total params: 14,714,688\n",
            "Trainable params: 0\n",
            "Non-trainable params: 14,714,688\n",
            "_________________________________________________________________\n"
          ],
          "name": "stdout"
        }
      ]
    },
    {
      "cell_type": "code",
      "metadata": {
        "id": "-ilqOvVypW_j",
        "colab_type": "code",
        "colab": {}
      },
      "source": [
        "l1 = tf.keras.layers.Conv2D(64,  kernel_size=(3,3), strides=1, padding='same', data_format='channels_last', dilation_rate=1, activation='relu')(x)\n",
        "l2 = tf.keras.layers.MaxPooling2D(pool_size=(2,2), strides=1, padding='same', data_format=None)(l1)\n",
        "flatten = tf.keras.layers.Flatten()(l2)\n",
        "l3 = tf.keras.layers.Dense(50,activation='relu')(flatten)\n",
        "l4 = tf.keras.layers.Dense(32,activation='relu')(l3)\n",
        "output = tf.keras.layers.Dense(16,activation='softmax')(l4)"
      ],
      "execution_count": 0,
      "outputs": []
    },
    {
      "cell_type": "code",
      "metadata": {
        "id": "-yg_BcYhTe9_",
        "colab_type": "code",
        "colab": {}
      },
      "source": [
        "model = tf.keras.Model(inputs = vgg.input, outputs = output)\n",
        "model.compile(loss='categorical_crossentropy',optimizer=tf.keras.optimizers.SGD(lr=1e-4, momentum=0.9),metrics=['accuracy'])"
      ],
      "execution_count": 0,
      "outputs": []
    },
    {
      "cell_type": "code",
      "metadata": {
        "id": "w5VcStB9pe7K",
        "colab_type": "code",
        "colab": {}
      },
      "source": [
        "tf.keras.backend.clear_session()"
      ],
      "execution_count": 0,
      "outputs": []
    },
    {
      "cell_type": "code",
      "metadata": {
        "id": "w4Teeo97yCBc",
        "colab_type": "code",
        "outputId": "efdff962-b7be-440c-8ec8-945220f0c392",
        "colab": {
          "base_uri": "https://localhost:8080/",
          "height": 785
        }
      },
      "source": [
        "model.fit_generator(\n",
        "    train_generator, steps_per_epoch = 100, validation_data = val_generator, validation_steps = 64,  epochs=20 , callbacks=tensorboard_callback\n",
        ")"
      ],
      "execution_count": 21,
      "outputs": [
        {
          "output_type": "stream",
          "text": [
            "WARNING:tensorflow:From <ipython-input-21-ebf7513dba0d>:2: Model.fit_generator (from tensorflow.python.keras.engine.training) is deprecated and will be removed in a future version.\n",
            "Instructions for updating:\n",
            "Please use Model.fit, which supports generators.\n",
            "Epoch 1/20\n",
            "100/100 [==============================] - 113s 1s/step - loss: 3.2323 - accuracy: 0.1494 - val_loss: 2.5370 - val_accuracy: 0.2065\n",
            "Epoch 2/20\n",
            "100/100 [==============================] - 102s 1s/step - loss: 2.4456 - accuracy: 0.2366 - val_loss: 2.3473 - val_accuracy: 0.2602\n",
            "Epoch 3/20\n",
            "100/100 [==============================] - 99s 993ms/step - loss: 2.2989 - accuracy: 0.2787 - val_loss: 2.2491 - val_accuracy: 0.2804\n",
            "Epoch 4/20\n",
            "100/100 [==============================] - 86s 855ms/step - loss: 2.1797 - accuracy: 0.3218 - val_loss: 2.1503 - val_accuracy: 0.3384\n",
            "Epoch 5/20\n",
            "100/100 [==============================] - 94s 942ms/step - loss: 2.1122 - accuracy: 0.3451 - val_loss: 2.0805 - val_accuracy: 0.3588\n",
            "Epoch 6/20\n",
            "100/100 [==============================] - 95s 950ms/step - loss: 2.0450 - accuracy: 0.3665 - val_loss: 2.0356 - val_accuracy: 0.3689\n",
            "Epoch 7/20\n",
            "100/100 [==============================] - 80s 800ms/step - loss: 1.9679 - accuracy: 0.3977 - val_loss: 1.9749 - val_accuracy: 0.4012\n",
            "Epoch 8/20\n",
            "100/100 [==============================] - 84s 842ms/step - loss: 1.9314 - accuracy: 0.3983 - val_loss: 1.9402 - val_accuracy: 0.3963\n",
            "Epoch 9/20\n",
            "100/100 [==============================] - 81s 814ms/step - loss: 1.8971 - accuracy: 0.4114 - val_loss: 1.8778 - val_accuracy: 0.4212\n",
            "Epoch 10/20\n",
            "100/100 [==============================] - 78s 778ms/step - loss: 1.8230 - accuracy: 0.4302 - val_loss: 1.8984 - val_accuracy: 0.4153\n",
            "Epoch 11/20\n",
            "100/100 [==============================] - 80s 805ms/step - loss: 1.8059 - accuracy: 0.4366 - val_loss: 1.8137 - val_accuracy: 0.4433\n",
            "Epoch 12/20\n",
            "100/100 [==============================] - 78s 783ms/step - loss: 1.7623 - accuracy: 0.4582 - val_loss: 1.8147 - val_accuracy: 0.4560\n",
            "Epoch 13/20\n",
            "100/100 [==============================] - 76s 764ms/step - loss: 1.7336 - accuracy: 0.4702 - val_loss: 1.7948 - val_accuracy: 0.4623\n",
            "Epoch 14/20\n",
            "100/100 [==============================] - 76s 757ms/step - loss: 1.7169 - accuracy: 0.4808 - val_loss: 1.7651 - val_accuracy: 0.4822\n",
            "Epoch 15/20\n",
            "100/100 [==============================] - 76s 758ms/step - loss: 1.6699 - accuracy: 0.4965 - val_loss: 1.7473 - val_accuracy: 0.4728\n",
            "Epoch 16/20\n",
            "100/100 [==============================] - 79s 792ms/step - loss: 1.6680 - accuracy: 0.4939 - val_loss: 1.7157 - val_accuracy: 0.4880\n",
            "Epoch 17/20\n",
            "100/100 [==============================] - 78s 781ms/step - loss: 1.6325 - accuracy: 0.5044 - val_loss: 1.7067 - val_accuracy: 0.4851\n",
            "Epoch 18/20\n",
            "100/100 [==============================] - 79s 794ms/step - loss: 1.6075 - accuracy: 0.5110 - val_loss: 1.7086 - val_accuracy: 0.4966\n",
            "Epoch 19/20\n",
            "100/100 [==============================] - 74s 743ms/step - loss: 1.6015 - accuracy: 0.5091 - val_loss: 1.6915 - val_accuracy: 0.4915\n",
            "Epoch 20/20\n",
            "100/100 [==============================] - 74s 736ms/step - loss: 1.5821 - accuracy: 0.5178 - val_loss: 1.6671 - val_accuracy: 0.5018\n"
          ],
          "name": "stdout"
        },
        {
          "output_type": "execute_result",
          "data": {
            "text/plain": [
              "<tensorflow.python.keras.callbacks.History at 0x7f0e8002d160>"
            ]
          },
          "metadata": {
            "tags": []
          },
          "execution_count": 21
        }
      ]
    },
    {
      "cell_type": "code",
      "metadata": {
        "id": "RLOpLHEoqoxG",
        "colab_type": "code",
        "colab": {}
      },
      "source": [
        "%load_ext tensorboard\n",
        "%tensorboard --logdir logs/fit"
      ],
      "execution_count": 0,
      "outputs": []
    },
    {
      "cell_type": "markdown",
      "metadata": {
        "id": "Y2sXEz9bhTB_",
        "colab_type": "text"
      },
      "source": [
        "Conclusion : We can conclude that we can get around 0.5 accuracy both train as validation for this Model"
      ]
    },
    {
      "cell_type": "markdown",
      "metadata": {
        "id": "-VB8pU6YJhgd",
        "colab_type": "text"
      },
      "source": [
        "Model2"
      ]
    },
    {
      "cell_type": "code",
      "metadata": {
        "id": "pihcu4YHH9FS",
        "colab_type": "code",
        "outputId": "28247298-6e95-4ff7-eeeb-21dedf384df5",
        "colab": {
          "base_uri": "https://localhost:8080/",
          "height": 34
        }
      },
      "source": [
        "# Clear any logs from previous runs\n",
        "!rm -rf ./logs/ \n",
        "tensorboard_callback = tf.keras.callbacks.TensorBoard(log_dir=log_dir,histogram_freq=1, write_graph=True,write_grads=True)"
      ],
      "execution_count": 23,
      "outputs": [
        {
          "output_type": "stream",
          "text": [
            "WARNING:tensorflow:`write_grads` will be ignored in TensorFlow 2.0 for the `TensorBoard` Callback.\n"
          ],
          "name": "stdout"
        }
      ]
    },
    {
      "cell_type": "code",
      "metadata": {
        "id": "VTW0ixAyJjvo",
        "colab_type": "code",
        "colab": {}
      },
      "source": [
        "vgg = tf.keras.applications.VGG16(include_top=False, weights='imagenet',input_shape=(156,156,3))\n",
        "x = vgg.output\n",
        "for layer in vgg.layers:\n",
        "  layer.trainable = False\n",
        "\n",
        "l1 = tf.keras.layers.Conv2D(64,kernel_size=(4,4), strides=(1,1), padding='same', data_format='channels_last', dilation_rate=1, activation='relu')(x)\n",
        "l2 = tf.keras.layers.Conv2D(40,kernel_size=(4,4),activation='relu',strides=(1,1), padding='same')(l1)\n",
        "\n",
        "l3 = tf.keras.layers.Flatten()(l2)\n",
        "output = tf.keras.layers.Dense(16,activation='softmax')(l3)"
      ],
      "execution_count": 0,
      "outputs": []
    },
    {
      "cell_type": "code",
      "metadata": {
        "id": "FxZU_9ClJipl",
        "colab_type": "code",
        "colab": {}
      },
      "source": [
        "model = tf.keras.Model(inputs = vgg.input, outputs = output)\n",
        "model.compile(loss='categorical_crossentropy',optimizer=tf.keras.optimizers.SGD(lr=1e-4, momentum=0.9),metrics=['accuracy'])"
      ],
      "execution_count": 0,
      "outputs": []
    },
    {
      "cell_type": "code",
      "metadata": {
        "id": "dNlNZIcTOUrt",
        "colab_type": "code",
        "outputId": "bc485b29-9285-401a-ad90-9ea7569fd293",
        "colab": {
          "base_uri": "https://localhost:8080/",
          "height": 734
        }
      },
      "source": [
        "model.fit_generator(\n",
        "    train_generator, steps_per_epoch = 100, validation_data = val_generator, validation_steps = 64,  epochs=20 , callbacks=tensorboard_callback\n",
        ")"
      ],
      "execution_count": 30,
      "outputs": [
        {
          "output_type": "stream",
          "text": [
            "Epoch 1/20\n",
            "100/100 [==============================] - 78s 776ms/step - loss: 2.7286 - accuracy: 0.2819 - val_loss: 2.0122 - val_accuracy: 0.3982\n",
            "Epoch 2/20\n",
            "100/100 [==============================] - 78s 780ms/step - loss: 1.9414 - accuracy: 0.4208 - val_loss: 1.8345 - val_accuracy: 0.4549\n",
            "Epoch 3/20\n",
            "100/100 [==============================] - 77s 767ms/step - loss: 1.7671 - accuracy: 0.4678 - val_loss: 1.7458 - val_accuracy: 0.4812\n",
            "Epoch 4/20\n",
            "100/100 [==============================] - 76s 757ms/step - loss: 1.6586 - accuracy: 0.4995 - val_loss: 1.6881 - val_accuracy: 0.4966\n",
            "Epoch 5/20\n",
            "100/100 [==============================] - 76s 764ms/step - loss: 1.6212 - accuracy: 0.5116 - val_loss: 1.6156 - val_accuracy: 0.5091\n",
            "Epoch 6/20\n",
            "100/100 [==============================] - 76s 760ms/step - loss: 1.5435 - accuracy: 0.5258 - val_loss: 1.6042 - val_accuracy: 0.5248\n",
            "Epoch 7/20\n",
            "100/100 [==============================] - 76s 758ms/step - loss: 1.5007 - accuracy: 0.5416 - val_loss: 1.5799 - val_accuracy: 0.5244\n",
            "Epoch 8/20\n",
            "100/100 [==============================] - 76s 760ms/step - loss: 1.4850 - accuracy: 0.5513 - val_loss: 1.5254 - val_accuracy: 0.5472\n",
            "Epoch 9/20\n",
            "100/100 [==============================] - 76s 758ms/step - loss: 1.3982 - accuracy: 0.5720 - val_loss: 1.5142 - val_accuracy: 0.5447\n",
            "Epoch 10/20\n",
            "100/100 [==============================] - 76s 757ms/step - loss: 1.4040 - accuracy: 0.5707 - val_loss: 1.4982 - val_accuracy: 0.5510\n",
            "Epoch 11/20\n",
            "100/100 [==============================] - 75s 753ms/step - loss: 1.4046 - accuracy: 0.5751 - val_loss: 1.4678 - val_accuracy: 0.5607\n",
            "Epoch 12/20\n",
            "100/100 [==============================] - 76s 758ms/step - loss: 1.3440 - accuracy: 0.5867 - val_loss: 1.4936 - val_accuracy: 0.5510\n",
            "Epoch 13/20\n",
            "100/100 [==============================] - 76s 758ms/step - loss: 1.3377 - accuracy: 0.5948 - val_loss: 1.4573 - val_accuracy: 0.5682\n",
            "Epoch 14/20\n",
            "100/100 [==============================] - 75s 747ms/step - loss: 1.2906 - accuracy: 0.6081 - val_loss: 1.4541 - val_accuracy: 0.5690\n",
            "Epoch 15/20\n",
            "100/100 [==============================] - 75s 748ms/step - loss: 1.2956 - accuracy: 0.6037 - val_loss: 1.4228 - val_accuracy: 0.5765\n",
            "Epoch 16/20\n",
            "100/100 [==============================] - 75s 751ms/step - loss: 1.2650 - accuracy: 0.6148 - val_loss: 1.4410 - val_accuracy: 0.5692\n",
            "Epoch 17/20\n",
            "100/100 [==============================] - 75s 748ms/step - loss: 1.2345 - accuracy: 0.6194 - val_loss: 1.4192 - val_accuracy: 0.5801\n",
            "Epoch 18/20\n",
            "100/100 [==============================] - 75s 749ms/step - loss: 1.2151 - accuracy: 0.6309 - val_loss: 1.4379 - val_accuracy: 0.5770\n",
            "Epoch 19/20\n",
            "100/100 [==============================] - 75s 747ms/step - loss: 1.2117 - accuracy: 0.6298 - val_loss: 1.4018 - val_accuracy: 0.5820\n",
            "Epoch 20/20\n",
            "100/100 [==============================] - 75s 749ms/step - loss: 1.2114 - accuracy: 0.6283 - val_loss: 1.3989 - val_accuracy: 0.5859\n"
          ],
          "name": "stdout"
        },
        {
          "output_type": "execute_result",
          "data": {
            "text/plain": [
              "<tensorflow.python.keras.callbacks.History at 0x7f0e1dbb8a58>"
            ]
          },
          "metadata": {
            "tags": []
          },
          "execution_count": 30
        }
      ]
    },
    {
      "cell_type": "code",
      "metadata": {
        "id": "-feS4gBwQKbz",
        "colab_type": "code",
        "colab": {}
      },
      "source": [
        "%tensorboard --logdir logs/fit"
      ],
      "execution_count": 0,
      "outputs": []
    },
    {
      "cell_type": "markdown",
      "metadata": {
        "id": "ZuzyTtgchk3H",
        "colab_type": "text"
      },
      "source": [
        "Conclusion : We can conclude that we can get around 0.6 accuracy train as well as validation for this model"
      ]
    },
    {
      "cell_type": "markdown",
      "metadata": {
        "id": "w-ipxVxeK7Ev",
        "colab_type": "text"
      },
      "source": [
        "Model3"
      ]
    },
    {
      "cell_type": "code",
      "metadata": {
        "id": "hQZDYd_5IAGM",
        "colab_type": "code",
        "colab": {
          "base_uri": "https://localhost:8080/",
          "height": 34
        },
        "outputId": "9f8cc4b5-7f96-4f0e-b06d-245545df4e57"
      },
      "source": [
        "# Clear any logs from previous runs\n",
        "!rm -rf ./logs/ \n",
        "tensorboard_callback = tf.keras.callbacks.TensorBoard(log_dir=log_dir,histogram_freq=1, write_graph=True,write_grads=True)"
      ],
      "execution_count": 27,
      "outputs": [
        {
          "output_type": "stream",
          "text": [
            "WARNING:tensorflow:`write_grads` will be ignored in TensorFlow 2.0 for the `TensorBoard` Callback.\n"
          ],
          "name": "stdout"
        }
      ]
    },
    {
      "cell_type": "code",
      "metadata": {
        "id": "RkRDqMaCLG5B",
        "colab_type": "code",
        "colab": {}
      },
      "source": [
        "vgg = tf.keras.applications.VGG16(include_top=False, weights='imagenet',input_shape=(156,156,3))\n",
        "x = vgg.output\n",
        "\n",
        "for layer in vgg.layers:\n",
        "  layer.trainable = False\n",
        "  \n",
        "l1 = tf.keras.layers.Conv2D(64,kernel_size=(4,4), strides=(1,1), padding='same', data_format='channels_last', dilation_rate=1, activation='relu')(x)\n",
        "\n",
        "l2 = tf.keras.layers.Conv2D(40,kernel_size=(4,4),activation='relu',strides=(1,1), padding='same')(l1)\n",
        "l3 = tf.keras.layers.Flatten()(l2)\n",
        "output = tf.keras.layers.Dense(16,activation='softmax')(l3)"
      ],
      "execution_count": 0,
      "outputs": []
    },
    {
      "cell_type": "code",
      "metadata": {
        "id": "2Qa8fFh9UFL6",
        "colab_type": "code",
        "colab": {}
      },
      "source": [
        "model = tf.keras.Model(inputs = vgg.input, outputs = output)\n",
        "for layer in vgg.layers[:-6]:\n",
        "  layer.trainable = False\n",
        "model.compile(loss='categorical_crossentropy',optimizer = tf.keras.optimizers.SGD(lr=1e-4, momentum=0.9),metrics=['accuracy'])"
      ],
      "execution_count": 0,
      "outputs": []
    },
    {
      "cell_type": "code",
      "metadata": {
        "id": "RD6kSo3rJTOv",
        "colab_type": "code",
        "colab": {
          "base_uri": "https://localhost:8080/",
          "height": 734
        },
        "outputId": "816b59ae-4223-4e9c-c9d2-b49130ef935f"
      },
      "source": [
        "model.fit_generator(\n",
        "    train_generator, steps_per_epoch = 100, validation_data = val_generator, validation_steps = 64,  epochs=20 , callbacks=tensorboard_callback\n",
        ")"
      ],
      "execution_count": 45,
      "outputs": [
        {
          "output_type": "stream",
          "text": [
            "Epoch 1/20\n",
            "100/100 [==============================] - 76s 759ms/step - loss: 2.7271 - accuracy: 0.2923 - val_loss: 2.0481 - val_accuracy: 0.3955\n",
            "Epoch 2/20\n",
            "100/100 [==============================] - 79s 790ms/step - loss: 1.9287 - accuracy: 0.4277 - val_loss: 1.8288 - val_accuracy: 0.4597\n",
            "Epoch 3/20\n",
            "100/100 [==============================] - 77s 775ms/step - loss: 1.7765 - accuracy: 0.4770 - val_loss: 1.7400 - val_accuracy: 0.4816\n",
            "Epoch 4/20\n",
            "100/100 [==============================] - 77s 768ms/step - loss: 1.6496 - accuracy: 0.5081 - val_loss: 1.6559 - val_accuracy: 0.5034\n",
            "Epoch 5/20\n",
            "100/100 [==============================] - 78s 782ms/step - loss: 1.5956 - accuracy: 0.5173 - val_loss: 1.6279 - val_accuracy: 0.5126\n",
            "Epoch 6/20\n",
            "100/100 [==============================] - 81s 810ms/step - loss: 1.5274 - accuracy: 0.5344 - val_loss: 1.5748 - val_accuracy: 0.5327\n",
            "Epoch 7/20\n",
            "100/100 [==============================] - 81s 807ms/step - loss: 1.4872 - accuracy: 0.5474 - val_loss: 1.5646 - val_accuracy: 0.5346\n",
            "Epoch 8/20\n",
            "100/100 [==============================] - 81s 811ms/step - loss: 1.4403 - accuracy: 0.5683 - val_loss: 1.5245 - val_accuracy: 0.5487\n",
            "Epoch 9/20\n",
            "100/100 [==============================] - 79s 794ms/step - loss: 1.3851 - accuracy: 0.5814 - val_loss: 1.5051 - val_accuracy: 0.5542\n",
            "Epoch 10/20\n",
            "100/100 [==============================] - 77s 774ms/step - loss: 1.3865 - accuracy: 0.5754 - val_loss: 1.5050 - val_accuracy: 0.5562\n",
            "Epoch 11/20\n",
            "100/100 [==============================] - 78s 778ms/step - loss: 1.3496 - accuracy: 0.5882 - val_loss: 1.4406 - val_accuracy: 0.5716\n",
            "Epoch 12/20\n",
            "100/100 [==============================] - 81s 809ms/step - loss: 1.3145 - accuracy: 0.5946 - val_loss: 1.4769 - val_accuracy: 0.5641\n",
            "Epoch 13/20\n",
            "100/100 [==============================] - 75s 751ms/step - loss: 1.3264 - accuracy: 0.6014 - val_loss: 1.4527 - val_accuracy: 0.5673\n",
            "Epoch 14/20\n",
            "100/100 [==============================] - 75s 752ms/step - loss: 1.2743 - accuracy: 0.6109 - val_loss: 1.4421 - val_accuracy: 0.5684\n",
            "Epoch 15/20\n",
            "100/100 [==============================] - 76s 756ms/step - loss: 1.2521 - accuracy: 0.6157 - val_loss: 1.4283 - val_accuracy: 0.5766\n",
            "Epoch 16/20\n",
            "100/100 [==============================] - 75s 752ms/step - loss: 1.2616 - accuracy: 0.6151 - val_loss: 1.3999 - val_accuracy: 0.5872\n",
            "Epoch 17/20\n",
            "100/100 [==============================] - 75s 754ms/step - loss: 1.2023 - accuracy: 0.6332 - val_loss: 1.4375 - val_accuracy: 0.5729\n",
            "Epoch 18/20\n",
            "100/100 [==============================] - 76s 757ms/step - loss: 1.2008 - accuracy: 0.6376 - val_loss: 1.3905 - val_accuracy: 0.5887\n",
            "Epoch 19/20\n",
            "100/100 [==============================] - 75s 752ms/step - loss: 1.2168 - accuracy: 0.6290 - val_loss: 1.3965 - val_accuracy: 0.5881\n",
            "Epoch 20/20\n",
            "100/100 [==============================] - 76s 755ms/step - loss: 1.1535 - accuracy: 0.6470 - val_loss: 1.3753 - val_accuracy: 0.5906\n"
          ],
          "name": "stdout"
        },
        {
          "output_type": "execute_result",
          "data": {
            "text/plain": [
              "<tensorflow.python.keras.callbacks.History at 0x7f0e1a8813c8>"
            ]
          },
          "metadata": {
            "tags": []
          },
          "execution_count": 45
        }
      ]
    },
    {
      "cell_type": "code",
      "metadata": {
        "id": "TD7aIi7SbLqi",
        "colab_type": "code",
        "colab": {}
      },
      "source": [
        "%tensorboard --logdir logs/fit"
      ],
      "execution_count": 0,
      "outputs": []
    },
    {
      "cell_type": "markdown",
      "metadata": {
        "id": "tZaQal9Lh_LS",
        "colab_type": "text"
      },
      "source": [
        "Conclusion : we can conclude that we can get 0.59 as validation and 0.64 as train accuracy for this model"
      ]
    },
    {
      "cell_type": "markdown",
      "metadata": {
        "id": "O01t0Ge7iMVA",
        "colab_type": "text"
      },
      "source": [
        "Finally we can conclude that 3rd gives best accuracy from all models."
      ]
    },
    {
      "cell_type": "code",
      "metadata": {
        "id": "w5mWmz9fh5SE",
        "colab_type": "code",
        "colab": {}
      },
      "source": [
        ""
      ],
      "execution_count": 0,
      "outputs": []
    }
  ]
}