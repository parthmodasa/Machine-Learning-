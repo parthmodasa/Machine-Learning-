{
  "nbformat": 4,
  "nbformat_minor": 0,
  "metadata": {
    "colab": {
      "name": "shahparth032gmail_com_performance_Matrics.ipynb",
      "provenance": [],
      "collapsed_sections": []
    },
    "language_info": {
      "codemirror_mode": {
        "name": "ipython",
        "version": 3
      },
      "file_extension": ".py",
      "mimetype": "text/x-python",
      "name": "python",
      "nbconvert_exporter": "python",
      "pygments_lexer": "ipython3",
      "version": "3.6.8"
    },
    "kernelspec": {
      "display_name": "Python 3",
      "language": "python",
      "name": "python3"
    }
  },
  "cells": [
    {
      "cell_type": "markdown",
      "metadata": {
        "id": "s0Ej_bXyQvnV",
        "colab_type": "text"
      },
      "source": [
        "# Compute performance metrics for the given Y and Y_score without sklearn"
      ]
    },
    {
      "cell_type": "code",
      "metadata": {
        "id": "4CHb6NE7Qvnc",
        "colab_type": "code",
        "colab": {}
      },
      "source": [
        "import numpy as np\n",
        "import pandas as pd"
      ],
      "execution_count": 0,
      "outputs": []
    },
    {
      "cell_type": "markdown",
      "metadata": {
        "id": "KbsWXuDaQvnq",
        "colab_type": "text"
      },
      "source": [
        "<pre>\n",
        "<font color='red'><b>A.</b></font> Compute performance metrics for the given data <strong>5_a.csv</strong>\n",
        "   <b>Note 1:</b> in this data you can see number of positive points >> number of negatives points\n",
        "   <b>Note 2:</b> use pandas or numpy to read the data from <b>5_a.csv</b>\n",
        "   <b>Note 3:</b> you need to derive the class labels from given score</pre> $y^{pred}= \\text{[0 if y_score < 0.5 else 1]}$\n",
        "\n",
        "<pre>\n",
        "<ol>\n",
        "<li> Compute Confusion Matrix </li>\n",
        "<li> Compute F1 Score </li>\n",
        "<li> Compute AUC Score, you need to compute different thresholds and for each threshold compute tpr,fpr and then use               numpy.trapz(tpr_array, fpr_array) <a href='https://stackoverflow.com/q/53603376/4084039'>https://stackoverflow.com/q/53603376/4084039</a>, <a href='https://stackoverflow.com/a/39678975/4084039'>https://stackoverflow.com/a/39678975/4084039</a> Note: it should be numpy.trapz(tpr_array, fpr_array) not numpy.trapz(fpr_array, tpr_array)</li>\n",
        "<li> Compute Accuracy Score </li>\n",
        "</ol>\n",
        "</pre>"
      ]
    },
    {
      "cell_type": "code",
      "metadata": {
        "id": "WaFLW7oBQvnt",
        "colab_type": "code",
        "outputId": "fff53a1d-409b-4f59-a54b-6d60ca07c7a5",
        "colab": {
          "resources": {
            "http://localhost:8080/nbextensions/google.colab/files.js": {
              "data": "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",
              "ok": true,
              "headers": [
                [
                  "content-type",
                  "application/javascript"
                ]
              ],
              "status": 200,
              "status_text": ""
            }
          },
          "base_uri": "https://localhost:8080/",
          "height": 74
        }
      },
      "source": [
        "from google.colab import files\n",
        "uploaded = files.upload()"
      ],
      "execution_count": 0,
      "outputs": [
        {
          "output_type": "display_data",
          "data": {
            "text/html": [
              "\n",
              "     <input type=\"file\" id=\"files-2e65f1d9-409e-4b1f-92ce-34e32c38eee4\" name=\"files[]\" multiple disabled />\n",
              "     <output id=\"result-2e65f1d9-409e-4b1f-92ce-34e32c38eee4\">\n",
              "      Upload widget is only available when the cell has been executed in the\n",
              "      current browser session. Please rerun this cell to enable.\n",
              "      </output>\n",
              "      <script src=\"/nbextensions/google.colab/files.js\"></script> "
            ],
            "text/plain": [
              "<IPython.core.display.HTML object>"
            ]
          },
          "metadata": {
            "tags": []
          }
        },
        {
          "output_type": "stream",
          "text": [
            "Saving 5_a.csv to 5_a.csv\n"
          ],
          "name": "stdout"
        }
      ]
    },
    {
      "cell_type": "code",
      "metadata": {
        "id": "JSDt0pVaLl1J",
        "colab_type": "code",
        "colab": {}
      },
      "source": [
        "data = pd.read_csv(\"5_a.csv\")\n",
        "data.head()\n",
        "y_predicted = []\n",
        "for i in(data[\"proba\"]):\n",
        "  if(i<0.5):\n",
        "    y_predicted.append(0)\n",
        "  else:\n",
        "    y_predicted.append(1)"
      ],
      "execution_count": 0,
      "outputs": []
    },
    {
      "cell_type": "markdown",
      "metadata": {
        "id": "MRVzwoGaT2zR",
        "colab_type": "text"
      },
      "source": [
        "Calculation of confusion matrix"
      ]
    },
    {
      "cell_type": "code",
      "metadata": {
        "id": "nwlrmFV-NHW-",
        "colab_type": "code",
        "colab": {}
      },
      "source": [
        "TP = 0\n",
        "FP = 0\n",
        "TN = 0\n",
        "FN = 0\n",
        "y_actual  = list(data[\"y\"])\n",
        "\n",
        "for i in range(len(y_predicted)): \n",
        "  if(y_actual[i]==1 and y_predicted[i]==1):\n",
        "    TP =TP + 1\n",
        "  if(y_predicted[i]==1 and y_actual[i]==0.0):\n",
        "    FP =FP + 1\n",
        "  if(y_actual[i]==0.0 and y_predicted[i]==0.0):\n",
        "    TN =TN + 1\n",
        "  if(y_predicted[i]==0.0 and y_actual[i]==1.0):\n",
        "    FN =FN+ 1"
      ],
      "execution_count": 0,
      "outputs": []
    },
    {
      "cell_type": "code",
      "metadata": {
        "id": "bh6bhnG-R3Ok",
        "colab_type": "code",
        "outputId": "0afd4fe7-9704-4498-8b81-a09ab9c9be56",
        "colab": {
          "base_uri": "https://localhost:8080/",
          "height": 34
        }
      },
      "source": [
        "print(TP,FP,TN,FN)"
      ],
      "execution_count": 0,
      "outputs": [
        {
          "output_type": "stream",
          "text": [
            "10000 100 0 0\n"
          ],
          "name": "stdout"
        }
      ]
    },
    {
      "cell_type": "markdown",
      "metadata": {
        "id": "p2jhCLzYUCdt",
        "colab_type": "text"
      },
      "source": [
        "Calculation of precision, recall and F1 score"
      ]
    },
    {
      "cell_type": "code",
      "metadata": {
        "id": "1ykVAvw5UZ_U",
        "colab_type": "code",
        "outputId": "23db5b4d-1221-4d6e-8faf-dbdf0fac38f5",
        "colab": {
          "base_uri": "https://localhost:8080/",
          "height": 34
        }
      },
      "source": [
        "precision = TP/(TP+FP)\n",
        "recall = TP/(TP+FN)\n",
        "F1_score = 2*precision*recall/(precision+recall)\n",
        "print(\"F1_score is \",F1_score)"
      ],
      "execution_count": 0,
      "outputs": [
        {
          "output_type": "stream",
          "text": [
            "F1_score is  0.9950248756218906\n"
          ],
          "name": "stdout"
        }
      ]
    },
    {
      "cell_type": "markdown",
      "metadata": {
        "id": "AnyC-MHLVkxh",
        "colab_type": "text"
      },
      "source": [
        "Compute AUC Score, you need to compute different thresholds and for each threshold compute tpr,fpr"
      ]
    },
    {
      "cell_type": "code",
      "metadata": {
        "id": "qF7VIzltWQ4B",
        "colab_type": "code",
        "outputId": "7b2c70c8-1df8-4d66-f0e8-7e797538b274",
        "colab": {
          "base_uri": "https://localhost:8080/",
          "height": 204
        }
      },
      "source": [
        "final_data = data.sort_values(by=['proba'], ascending=False).reset_index(drop=True)\n",
        "final_data.head()"
      ],
      "execution_count": 0,
      "outputs": [
        {
          "output_type": "execute_result",
          "data": {
            "text/html": [
              "<div>\n",
              "<style scoped>\n",
              "    .dataframe tbody tr th:only-of-type {\n",
              "        vertical-align: middle;\n",
              "    }\n",
              "\n",
              "    .dataframe tbody tr th {\n",
              "        vertical-align: top;\n",
              "    }\n",
              "\n",
              "    .dataframe thead th {\n",
              "        text-align: right;\n",
              "    }\n",
              "</style>\n",
              "<table border=\"1\" class=\"dataframe\">\n",
              "  <thead>\n",
              "    <tr style=\"text-align: right;\">\n",
              "      <th></th>\n",
              "      <th>y</th>\n",
              "      <th>proba</th>\n",
              "    </tr>\n",
              "  </thead>\n",
              "  <tbody>\n",
              "    <tr>\n",
              "      <th>0</th>\n",
              "      <td>1.0</td>\n",
              "      <td>0.899965</td>\n",
              "    </tr>\n",
              "    <tr>\n",
              "      <th>1</th>\n",
              "      <td>1.0</td>\n",
              "      <td>0.899828</td>\n",
              "    </tr>\n",
              "    <tr>\n",
              "      <th>2</th>\n",
              "      <td>1.0</td>\n",
              "      <td>0.899825</td>\n",
              "    </tr>\n",
              "    <tr>\n",
              "      <th>3</th>\n",
              "      <td>1.0</td>\n",
              "      <td>0.899812</td>\n",
              "    </tr>\n",
              "    <tr>\n",
              "      <th>4</th>\n",
              "      <td>1.0</td>\n",
              "      <td>0.899768</td>\n",
              "    </tr>\n",
              "  </tbody>\n",
              "</table>\n",
              "</div>"
            ],
            "text/plain": [
              "     y     proba\n",
              "0  1.0  0.899965\n",
              "1  1.0  0.899828\n",
              "2  1.0  0.899825\n",
              "3  1.0  0.899812\n",
              "4  1.0  0.899768"
            ]
          },
          "metadata": {
            "tags": []
          },
          "execution_count": 7
        }
      ]
    },
    {
      "cell_type": "code",
      "metadata": {
        "id": "XI1r7cpcsQaR",
        "colab_type": "code",
        "colab": {}
      },
      "source": [
        "def tpr_fpr(data,threshold):\n",
        "  predicted = []\n",
        "  actual = list(data[\"y\"])\n",
        "  proba = list(data[\"proba\"])\n",
        "  \"\"\" First calculate Predicted score based on threshold\"\"\"\n",
        "  for i in proba:\n",
        "    if(i>threshold):\n",
        "      predicted.append(1.0)\n",
        "    else:\n",
        "      predicted.append(0.0)     \n",
        "  \"\"\" Calculate confusion matrix \"\"\"\n",
        "  TP = 0\n",
        "  FP = 0\n",
        "  TN = 0\n",
        "  FN = 0\n",
        "  for i in range(len(predicted)): \n",
        "    if(actual[i]==1.0 and predicted[i]==1.0):\n",
        "      TP =TP + 1\n",
        "    if(predicted[i]==1.0 and actual[i]==0.0):\n",
        "      FP =FP + 1\n",
        "    if(actual[i]==0.0 and predicted[i]==0.0):\n",
        "      TN =TN + 1\n",
        "    if(predicted[i]==0.0 and actual[i]==1.0):\n",
        "      FN =FN+ 1\n",
        "  \"\"\" Find FPR and TPR\"\"\"    \n",
        "  TPR = TP / (TP+FN)\n",
        "  FPR = FP / (TN+FP)\n",
        "  return(TPR,FPR)"
      ],
      "execution_count": 0,
      "outputs": []
    },
    {
      "cell_type": "code",
      "metadata": {
        "id": "rIDUpIw4sQ1f",
        "colab_type": "code",
        "outputId": "ffefdbfe-0c78-427e-c13c-83dcca5ea8bf",
        "colab": {
          "base_uri": "https://localhost:8080/",
          "height": 34
        }
      },
      "source": [
        "thresholds = [0.8979645294801951,0.8962434137625259,0.8677905998911466,0.8515127712393689,0.8027361780794107,0.7962086709742988,0.7774485063853893,0.7747652430929871,0.7717913674431452,0.7651214270515854,0.7100026548600049,0.7076740112880816,0.6791890153676349,0.6406787445108583,0.6330764076965771,0.6115865864967418,0.6055959088928883,0.5721301223258192,0.5678904412870444,0.5354535608311712,0.5178149529631384,0.511524757542632,0.5000185949718864]\n",
        "print(len(thresholds))"
      ],
      "execution_count": 0,
      "outputs": [
        {
          "output_type": "stream",
          "text": [
            "23\n"
          ],
          "name": "stdout"
        }
      ]
    },
    {
      "cell_type": "code",
      "metadata": {
        "id": "XU6kDBYQsRIm",
        "colab_type": "code",
        "colab": {}
      },
      "source": [
        "TPRS = []\n",
        "FPRS = []\n",
        "for i in thresholds:\n",
        "  tpr , fpr = tpr_fpr(final_data,i)\n",
        "  TPRS.append(tpr)\n",
        "  FPRS.append(fpr)"
      ],
      "execution_count": 0,
      "outputs": []
    },
    {
      "cell_type": "code",
      "metadata": {
        "id": "IHTNVzD2sRan",
        "colab_type": "code",
        "outputId": "5c640ad7-9892-4a7c-8eb2-3c563303d7b0",
        "colab": {
          "base_uri": "https://localhost:8080/",
          "height": 71
        }
      },
      "source": [
        "print(TPRS)\n",
        "print(FPRS)"
      ],
      "execution_count": 0,
      "outputs": [
        {
          "output_type": "stream",
          "text": [
            "[0.0043, 0.009, 0.0753, 0.1145, 0.2264, 0.2437, 0.2877, 0.2954, 0.3027, 0.3207, 0.4645, 0.4706, 0.546, 0.6453, 0.6653, 0.7203, 0.7361, 0.8172, 0.8277, 0.9076, 0.9537, 0.971, 0.9999]\n",
            "[0.0, 0.0, 0.12, 0.13, 0.22, 0.25, 0.29, 0.29, 0.29, 0.31, 0.47, 0.48, 0.57, 0.65, 0.68, 0.73, 0.76, 0.84, 0.85, 0.91, 0.92, 0.94, 1.0]\n"
          ],
          "name": "stdout"
        }
      ]
    },
    {
      "cell_type": "code",
      "metadata": {
        "id": "llbewzK4sSAL",
        "colab_type": "code",
        "outputId": "77ad405b-aa7f-4cad-b7fa-1a427f73f77f",
        "colab": {
          "base_uri": "https://localhost:8080/",
          "height": 34
        }
      },
      "source": [
        "AUC = np.trapz(TPRS,FPRS)\n",
        "print(AUC)"
      ],
      "execution_count": 0,
      "outputs": [
        {
          "output_type": "stream",
          "text": [
            "0.4923925\n"
          ],
          "name": "stdout"
        }
      ]
    },
    {
      "cell_type": "markdown",
      "metadata": {
        "id": "ufgcb5ZEWSDZ",
        "colab_type": "text"
      },
      "source": [
        "Compute Accuracy Score "
      ]
    },
    {
      "cell_type": "code",
      "metadata": {
        "id": "ZMhSRyFGWcZe",
        "colab_type": "code",
        "outputId": "0b8d97e6-4b02-471d-b211-35a7c08cef48",
        "colab": {
          "base_uri": "https://localhost:8080/",
          "height": 34
        }
      },
      "source": [
        "print(\"Accuracy Score \" , ((TP+TN)/(TP+FP+TN+FN)))"
      ],
      "execution_count": 0,
      "outputs": [
        {
          "output_type": "stream",
          "text": [
            "Accuracy Score  0.9900990099009901\n"
          ],
          "name": "stdout"
        }
      ]
    },
    {
      "cell_type": "markdown",
      "metadata": {
        "id": "V5KZem1BQvn2",
        "colab_type": "text"
      },
      "source": [
        "<pre>\n",
        "<font color='red'><b>B.</b></font> Compute performance metrics for the given data <strong>5_b.csv</strong>\n",
        "   <b>Note 1:</b> in this data you can see number of positive points << number of negatives points\n",
        "   <b>Note 2:</b> use pandas or numpy to read the data from <b>5_b.csv</b>\n",
        "   <b>Note 3:</b> you need to derive the class labels from given score</pre> $y^{pred}= \\text{[0 if y_score < 0.5 else 1]}$\n",
        "\n",
        "<pre>\n",
        "<ol>\n",
        "<li> Compute Confusion Matrix </li>\n",
        "<li> Compute F1 Score </li>\n",
        "<li> Compute AUC Score, you need to compute different thresholds and for each threshold compute tpr,fpr and then use               numpy.trapz(tpr_array, fpr_array) <a href='https://stackoverflow.com/q/53603376/4084039'>https://stackoverflow.com/q/53603376/4084039</a>, <a href='https://stackoverflow.com/a/39678975/4084039'>https://stackoverflow.com/a/39678975/4084039</a></li>\n",
        "<li> Compute Accuracy Score </li>\n",
        "</ol>\n",
        "</pre>"
      ]
    },
    {
      "cell_type": "code",
      "metadata": {
        "id": "U2sKlq0YQvn5",
        "colab_type": "code",
        "outputId": "0d35b1f8-a8e8-4dc0-a7cc-96b49a0e1e56",
        "colab": {
          "resources": {
            "http://localhost:8080/nbextensions/google.colab/files.js": {
              "data": "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",
              "ok": true,
              "headers": [
                [
                  "content-type",
                  "application/javascript"
                ]
              ],
              "status": 200,
              "status_text": ""
            }
          },
          "base_uri": "https://localhost:8080/",
          "height": 74
        }
      },
      "source": [
        "from google.colab import files\n",
        "uploaded = files.upload()"
      ],
      "execution_count": 0,
      "outputs": [
        {
          "output_type": "display_data",
          "data": {
            "text/html": [
              "\n",
              "     <input type=\"file\" id=\"files-d84ccda1-5605-4a3c-b53d-efd70b5d3e79\" name=\"files[]\" multiple disabled />\n",
              "     <output id=\"result-d84ccda1-5605-4a3c-b53d-efd70b5d3e79\">\n",
              "      Upload widget is only available when the cell has been executed in the\n",
              "      current browser session. Please rerun this cell to enable.\n",
              "      </output>\n",
              "      <script src=\"/nbextensions/google.colab/files.js\"></script> "
            ],
            "text/plain": [
              "<IPython.core.display.HTML object>"
            ]
          },
          "metadata": {
            "tags": []
          }
        },
        {
          "output_type": "stream",
          "text": [
            "Saving 5_b.csv to 5_b.csv\n"
          ],
          "name": "stdout"
        }
      ]
    },
    {
      "cell_type": "code",
      "metadata": {
        "id": "9iA6WVI5XQo7",
        "colab_type": "code",
        "colab": {}
      },
      "source": [
        "data = pd.read_csv(\"5_b.csv\")\n",
        "data.head()\n",
        "y_predicted = []\n",
        "for i in(data[\"proba\"]):\n",
        "  if(i<0.5):\n",
        "    y_predicted.append(0.0)\n",
        "  else:\n",
        "    y_predicted.append(1.0)"
      ],
      "execution_count": 0,
      "outputs": []
    },
    {
      "cell_type": "markdown",
      "metadata": {
        "id": "hn2MgYycXpJh",
        "colab_type": "text"
      },
      "source": [
        "Calculation of Confusion matrix"
      ]
    },
    {
      "cell_type": "code",
      "metadata": {
        "id": "Mv6mvmvLXiIb",
        "colab_type": "code",
        "colab": {}
      },
      "source": [
        "TP = 0\n",
        "FP = 0\n",
        "TN = 0\n",
        "FN = 0\n",
        "y_actual  = list(data[\"y\"])\n",
        "for i in range(len(y_predicted)): \n",
        "  if(y_actual[i]==1.0 and y_predicted[i]==1.0):\n",
        "    TP =TP + 1\n",
        "  if(y_predicted[i]==1.0 and y_actual[i]==0.0):\n",
        "    FP =FP + 1\n",
        "  if(y_actual[i]==0.0 and y_predicted[i]==0.0):\n",
        "    TN =TN + 1\n",
        "  if(y_predicted[i]==0.0 and y_actual[i]==1.0):\n",
        "    FN =FN+ 1"
      ],
      "execution_count": 0,
      "outputs": []
    },
    {
      "cell_type": "code",
      "metadata": {
        "id": "UD3lBpw9XwGK",
        "colab_type": "code",
        "outputId": "66034c11-4124-491e-feb9-c8b8d63db683",
        "colab": {
          "base_uri": "https://localhost:8080/",
          "height": 34
        }
      },
      "source": [
        "print(TP,FP,TN,FN)"
      ],
      "execution_count": 0,
      "outputs": [
        {
          "output_type": "stream",
          "text": [
            "55 239 9761 45\n"
          ],
          "name": "stdout"
        }
      ]
    },
    {
      "cell_type": "markdown",
      "metadata": {
        "id": "D-upTbgsZfMF",
        "colab_type": "text"
      },
      "source": [
        "Calculation of precision, recall and F1 score"
      ]
    },
    {
      "cell_type": "code",
      "metadata": {
        "id": "tDDhnZrgZmUR",
        "colab_type": "code",
        "outputId": "f930dedd-6fb9-492c-c251-0609de4748e8",
        "colab": {
          "base_uri": "https://localhost:8080/",
          "height": 34
        }
      },
      "source": [
        "precision = TP/(TP+FP)\n",
        "recall = TP/(TP+FN)\n",
        "F1_score = 2*precision*recall/(precision+recall)\n",
        "print(\"F1_score is \",F1_score)"
      ],
      "execution_count": 0,
      "outputs": [
        {
          "output_type": "stream",
          "text": [
            "F1_score is  0.2791878172588833\n"
          ],
          "name": "stdout"
        }
      ]
    },
    {
      "cell_type": "markdown",
      "metadata": {
        "id": "-fhLdgthZz-f",
        "colab_type": "text"
      },
      "source": [
        "Compute AUC Score, you need to compute different thresholds and for each threshold compute tpr,fpr"
      ]
    },
    {
      "cell_type": "code",
      "metadata": {
        "id": "RYXUivj9Zt8h",
        "colab_type": "code",
        "outputId": "e8e40d35-0303-49c0-bf73-1772a05ca956",
        "colab": {
          "base_uri": "https://localhost:8080/",
          "height": 204
        }
      },
      "source": [
        "final_data = data.sort_values(by=['proba'], ascending=False).reset_index(drop=True)\n",
        "final_data.head()"
      ],
      "execution_count": 0,
      "outputs": [
        {
          "output_type": "execute_result",
          "data": {
            "text/html": [
              "<div>\n",
              "<style scoped>\n",
              "    .dataframe tbody tr th:only-of-type {\n",
              "        vertical-align: middle;\n",
              "    }\n",
              "\n",
              "    .dataframe tbody tr th {\n",
              "        vertical-align: top;\n",
              "    }\n",
              "\n",
              "    .dataframe thead th {\n",
              "        text-align: right;\n",
              "    }\n",
              "</style>\n",
              "<table border=\"1\" class=\"dataframe\">\n",
              "  <thead>\n",
              "    <tr style=\"text-align: right;\">\n",
              "      <th></th>\n",
              "      <th>y</th>\n",
              "      <th>proba</th>\n",
              "    </tr>\n",
              "  </thead>\n",
              "  <tbody>\n",
              "    <tr>\n",
              "      <th>0</th>\n",
              "      <td>1.0</td>\n",
              "      <td>0.595294</td>\n",
              "    </tr>\n",
              "    <tr>\n",
              "      <th>1</th>\n",
              "      <td>1.0</td>\n",
              "      <td>0.594808</td>\n",
              "    </tr>\n",
              "    <tr>\n",
              "      <th>2</th>\n",
              "      <td>1.0</td>\n",
              "      <td>0.592198</td>\n",
              "    </tr>\n",
              "    <tr>\n",
              "      <th>3</th>\n",
              "      <td>1.0</td>\n",
              "      <td>0.590171</td>\n",
              "    </tr>\n",
              "    <tr>\n",
              "      <th>4</th>\n",
              "      <td>1.0</td>\n",
              "      <td>0.588718</td>\n",
              "    </tr>\n",
              "  </tbody>\n",
              "</table>\n",
              "</div>"
            ],
            "text/plain": [
              "     y     proba\n",
              "0  1.0  0.595294\n",
              "1  1.0  0.594808\n",
              "2  1.0  0.592198\n",
              "3  1.0  0.590171\n",
              "4  1.0  0.588718"
            ]
          },
          "metadata": {
            "tags": []
          },
          "execution_count": 19
        }
      ]
    },
    {
      "cell_type": "code",
      "metadata": {
        "id": "7warssAutSAJ",
        "colab_type": "code",
        "colab": {}
      },
      "source": [
        ""
      ],
      "execution_count": 0,
      "outputs": []
    },
    {
      "cell_type": "code",
      "metadata": {
        "id": "MTdbKZURtSu2",
        "colab_type": "code",
        "outputId": "151e87d3-ec96-40bb-ac57-203f1c1bc529",
        "colab": {
          "base_uri": "https://localhost:8080/",
          "height": 34
        }
      },
      "source": [
        "thresholds = [0.5034212859436897,0.4968158297400005,0.4921602700780325,0.4786459454382459,0.4594777626985074,0.4527483292664275,0.4455941789532206,0.4392290712892168,0.4262898033211064,0.41667007869407857,0.3961601496575481,0.3867487876087292,0.3806751962489554,0.3452767583474625,0.31810605531581626,0.28774295582432396,0.2367664755556965,0.20213626730229614,0.1975369414246271,0.16766616747786753,0.12309150038991652,0.10218565662419893,0.10000141285578913]\n",
        "print(len(thresholds))"
      ],
      "execution_count": 0,
      "outputs": [
        {
          "output_type": "stream",
          "text": [
            "23\n"
          ],
          "name": "stdout"
        }
      ]
    },
    {
      "cell_type": "code",
      "metadata": {
        "id": "BT161sTctTFX",
        "colab_type": "code",
        "colab": {}
      },
      "source": [
        "TPRS = []\n",
        "FPRS = []\n",
        "for i in thresholds:\n",
        "  tpr , fpr = tpr_fpr(final_data,i)\n",
        "  TPRS.append(tpr)\n",
        "  FPRS.append(fpr)"
      ],
      "execution_count": 0,
      "outputs": []
    },
    {
      "cell_type": "code",
      "metadata": {
        "id": "fKAk_YG4tTY-",
        "colab_type": "code",
        "outputId": "ec123fd6-fc88-48b0-86f3-0c49d07ed4c4",
        "colab": {
          "base_uri": "https://localhost:8080/",
          "height": 74
        }
      },
      "source": [
        "print(TPRS)\n",
        "print(FPRS)"
      ],
      "execution_count": 0,
      "outputs": [
        {
          "output_type": "stream",
          "text": [
            "[0.53, 0.56, 0.58, 0.67, 0.76, 0.78, 0.8, 0.86, 0.9, 0.93, 1.0, 1.0, 1.0, 1.0, 1.0, 1.0, 1.0, 1.0, 1.0, 1.0, 1.0, 1.0, 1.0]\n",
            "[0.0151, 0.0314, 0.0421, 0.074, 0.1216, 0.1381, 0.1565, 0.1744, 0.2056, 0.2304, 0.2765, 0.2983, 0.3134, 0.4007, 0.4632, 0.5338, 0.6553, 0.7448, 0.7551, 0.8321, 0.9434, 0.9947, 1.0]\n"
          ],
          "name": "stdout"
        }
      ]
    },
    {
      "cell_type": "code",
      "metadata": {
        "id": "7GDLI3ynwoCv",
        "colab_type": "code",
        "outputId": "0cb2805b-8f53-412c-b75b-ec5e9c9da2b5",
        "colab": {
          "base_uri": "https://localhost:8080/",
          "height": 34
        }
      },
      "source": [
        "AUC = np.trapz(TPRS,FPRS)\n",
        "print(\"Value of AUC is \",AUC)"
      ],
      "execution_count": 0,
      "outputs": [
        {
          "output_type": "stream",
          "text": [
            "Value of AUC is  0.92878\n"
          ],
          "name": "stdout"
        }
      ]
    },
    {
      "cell_type": "markdown",
      "metadata": {
        "id": "1HxqyQqdZ1gX",
        "colab_type": "text"
      },
      "source": [
        "Compute Accuracy Score \n"
      ]
    },
    {
      "cell_type": "code",
      "metadata": {
        "id": "Pa8l13gkZ6R4",
        "colab_type": "code",
        "outputId": "6f700988-6cde-4850-9406-eb173cac001f",
        "colab": {
          "base_uri": "https://localhost:8080/",
          "height": 34
        }
      },
      "source": [
        "print(\"Accuracy Score \" , ((TP+TN)/(TP+FP+TN+FN)))"
      ],
      "execution_count": 0,
      "outputs": [
        {
          "output_type": "stream",
          "text": [
            "Accuracy Score  0.9718811881188119\n"
          ],
          "name": "stdout"
        }
      ]
    },
    {
      "cell_type": "markdown",
      "metadata": {
        "id": "GiPGonTzQvoB",
        "colab_type": "text"
      },
      "source": [
        "<font color='red'><b>C.</b></font> Compute the best threshold (similarly to ROC curve computation) of probability which gives lowest values of metric <b>A</b> for the given data <strong>5_c.csv</strong>\n",
        "<br>\n",
        "\n",
        "you will be predicting label of a data points like this: $y^{pred}= \\text{[0 if y_score < threshold  else 1]}$\n",
        "\n",
        "$ A = 500 \\times \\text{number of false negative} + 100 \\times \\text{numebr of false positive}$\n",
        "\n",
        "<pre>\n",
        "   <b>Note 1:</b> in this data you can see number of negative points > number of positive points\n",
        "   <b>Note 2:</b> use pandas or numpy to read the data from <b>5_c.csv</b>\n",
        "</pre>"
      ]
    },
    {
      "cell_type": "code",
      "metadata": {
        "id": "x5HIJzq1QvoE",
        "colab_type": "code",
        "outputId": "dd77e541-2891-43fb-c052-2aba016086ac",
        "colab": {
          "resources": {
            "http://localhost:8080/nbextensions/google.colab/files.js": {
              "data": "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",
              "ok": true,
              "headers": [
                [
                  "content-type",
                  "application/javascript"
                ]
              ],
              "status": 200,
              "status_text": "OK"
            }
          },
          "base_uri": "https://localhost:8080/",
          "height": 75
        }
      },
      "source": [
        "from google.colab import files\n",
        "uploaded = files.upload()"
      ],
      "execution_count": 7,
      "outputs": [
        {
          "output_type": "display_data",
          "data": {
            "text/html": [
              "\n",
              "     <input type=\"file\" id=\"files-0f1af7e6-db76-4044-b77d-99b1e00271af\" name=\"files[]\" multiple disabled />\n",
              "     <output id=\"result-0f1af7e6-db76-4044-b77d-99b1e00271af\">\n",
              "      Upload widget is only available when the cell has been executed in the\n",
              "      current browser session. Please rerun this cell to enable.\n",
              "      </output>\n",
              "      <script src=\"/nbextensions/google.colab/files.js\"></script> "
            ],
            "text/plain": [
              "<IPython.core.display.HTML object>"
            ]
          },
          "metadata": {
            "tags": []
          }
        },
        {
          "output_type": "stream",
          "text": [
            "Saving 5_c.csv to 5_c.csv\n"
          ],
          "name": "stdout"
        }
      ]
    },
    {
      "cell_type": "code",
      "metadata": {
        "id": "x1JArU19W7_r",
        "colab_type": "code",
        "colab": {}
      },
      "source": [
        ""
      ],
      "execution_count": 0,
      "outputs": []
    },
    {
      "cell_type": "code",
      "metadata": {
        "id": "oKxHVcnUg6Q1",
        "colab_type": "code",
        "colab": {}
      },
      "source": [
        "data = pd.read_csv(\"5_c.csv\")\n",
        "final_data = data.sort_values(by=['prob'], ascending=False).reset_index(drop=True)"
      ],
      "execution_count": 0,
      "outputs": []
    },
    {
      "cell_type": "code",
      "metadata": {
        "id": "MIXGEyD7g6i1",
        "colab_type": "code",
        "colab": {}
      },
      "source": [
        "\"\"\" This function find accuracy based on Threshold \"\"\"\n",
        "def find_FN_FP(data,threshold):\n",
        "  predicted = []\n",
        "  actual = list(data[\"y\"])\n",
        "  proba = list(data[\"prob\"])\n",
        "  \"\"\" First calculate Predicted score based on threshold\"\"\"\n",
        "  for i in proba:\n",
        "    if(i<threshold):\n",
        "      predicted.append(0.0)\n",
        "    else:\n",
        "      predicted.append(1.0)     \n",
        "  \"\"\" Calculate confusion matrix \"\"\"\n",
        "  TP = 0\n",
        "  FP = 0\n",
        "  TN = 0\n",
        "  FN = 0\n",
        "  for i in range(len(predicted)): \n",
        "    if(actual[i]==1.0 and predicted[i]==1.0):\n",
        "      TP =TP + 1\n",
        "    if(predicted[i]==1.0 and actual[i]==0.0):\n",
        "      FP =FP + 1\n",
        "    if(actual[i]==0.0 and predicted[i]==0.0):\n",
        "      TN =TN + 1\n",
        "    if(predicted[i]==0.0 and actual[i]==1.0):\n",
        "      FN =FN+ 1 \n",
        "  return(FN,FP)"
      ],
      "execution_count": 0,
      "outputs": []
    },
    {
      "cell_type": "code",
      "metadata": {
        "id": "c82HIWIjg6w2",
        "colab_type": "code",
        "outputId": "68b4b800-b9a0-453e-de2c-a33dac0c25e2",
        "colab": {
          "base_uri": "https://localhost:8080/",
          "height": 55
        }
      },
      "source": [
        "thresholds = list(final_data[\"prob\"])\n",
        "print(thresholds)"
      ],
      "execution_count": 10,
      "outputs": [
        {
          "output_type": "stream",
          "text": [
            "[0.9577467989277196, 0.9514369163158778, 0.9486377939984604, 0.9440936134070964, 0.9411131844327256, 0.9216107669714336, 0.918113140842399, 0.9163642710427174, 0.9133748371858854, 0.9132795051948444, 0.9124637897554282, 0.9106220246569532, 0.9093609705970094, 0.9080672803762796, 0.9080672803762796, 0.9076528961996776, 0.9015598740126636, 0.9001968241221197, 0.8999374043699857, 0.8995855307156171, 0.8973180271081023, 0.8973180271081023, 0.8941874174854242, 0.8941874174854242, 0.8941430880411251, 0.8916800382572252, 0.8916800382572252, 0.8912259517489253, 0.889553628257803, 0.8819152300019522, 0.8812197321975553, 0.8805178665631526, 0.8794177496755445, 0.8759976866076121, 0.8757431861013174, 0.8739998863154166, 0.873213595031081, 0.8717101029044874, 0.8717101029044874, 0.8659504736597474, 0.8655340064417671, 0.8631641757045243, 0.8615177676484391, 0.8604402376993282, 0.8591536659545995, 0.8570807568124823, 0.8545433941322405, 0.8542363526349938, 0.8534908858505456, 0.8528091347700841, 0.8528091347700841, 0.8512438540724484, 0.8512438540724484, 0.8502672540174948, 0.8498708255387641, 0.8486969257528718, 0.8474737864893835, 0.8470200202553659, 0.8470200202553659, 0.8469813273766557, 0.8455886156172365, 0.8418708154679956, 0.8415066162879403, 0.8413103496706164, 0.8408550789227357, 0.8393774300410941, 0.8393774300410941, 0.8393774300410941, 0.8393774300410941, 0.8392045426408987, 0.8383420355416633, 0.8376767530634597, 0.836303519437442, 0.836303519437442, 0.8346472501352027, 0.8342572198929014, 0.8342003208157178, 0.8338937690934619, 0.8333333323936205, 0.8328447805063145, 0.8311450560954777, 0.8309308067970984, 0.8297387627330987, 0.8278897701687105, 0.827832883072866, 0.8250117442897849, 0.823864641624528, 0.8235038935735419, 0.8229559452549832, 0.8221627477858517, 0.8188190367576238, 0.8184583352224247, 0.8176524524350424, 0.8176142738477604, 0.817255483889902, 0.8160198481904494, 0.8153026002283033, 0.8144429765037589, 0.8119125434675732, 0.8088125167666255, 0.80800131406333, 0.8068856335169561, 0.8057170278719954, 0.8055988376003664, 0.8054752086062689, 0.8050209414717313, 0.8048336103155806, 0.804493649585827, 0.8033722066194624, 0.8033057834852386, 0.8012284215640377, 0.8003304785973318, 0.7999813846639685, 0.7977437601500266, 0.7973453948223913, 0.7973453948223913, 0.7959790027423485, 0.7942141717350161, 0.7928437467765164, 0.7918918914086109, 0.7913999803162909, 0.7897849181616629, 0.7895843279925553, 0.7881933169791827, 0.7881933169791827, 0.7879516538735982, 0.7877441709106032, 0.7810336623240162, 0.78001470088556, 0.7795455133592759, 0.7795455133592759, 0.7794639602605555, 0.7774947271556467, 0.7752595574066445, 0.7750978352552329, 0.7748548779133204, 0.7717436054671133, 0.7712160294523109, 0.7705450972189775, 0.7687866125960607, 0.7686083077176197, 0.7652847210096346, 0.7617150345766867, 0.7600973965348424, 0.7597038749907468, 0.7593903789246405, 0.7587975372333784, 0.7583430604757491, 0.7574519611693717, 0.7557642795145512, 0.7553918932539385, 0.7550468994556246, 0.7545586715678911, 0.7540460558155099, 0.7523948441486101, 0.7520310874726321, 0.751333136916966, 0.751333136916966, 0.7507003479309984, 0.750538898279538, 0.7491874099784606, 0.7468628500764434, 0.7466474137193448, 0.7456061858180407, 0.7455301457965696, 0.7455301457965696, 0.7452523470730394, 0.7441825234406703, 0.7439058503589114, 0.7435600724373315, 0.7434056997299194, 0.7431666480528342, 0.7425734644403329, 0.741962330164136, 0.741417928623992, 0.7404625152011175, 0.7398532931063626, 0.7351595561045248, 0.7338631123908468, 0.7318394539525379, 0.7314068731423969, 0.7300569421133479, 0.7287499179711213, 0.7279759016190026, 0.7278494691929301, 0.7273360744521424, 0.7269610235014478, 0.7267539627044588, 0.7262578327712175, 0.7253035937209387, 0.7252975145505892, 0.7252673277178326, 0.7225338772342011, 0.7220426306531236, 0.7216758311197564, 0.7216013476655291, 0.7207200626867849, 0.7190648436143592, 0.7176812041450191, 0.7164575673035674, 0.7157811181166688, 0.7147994767371062, 0.7142333082250647, 0.7135483235926241, 0.7122009116652851, 0.7096726813831845, 0.7096365122376261, 0.709213907855588, 0.7071764020098222, 0.7044747710429333, 0.7044747710429333, 0.7042972653902866, 0.7042972653902866, 0.7037627449309504, 0.7019758983137641, 0.7015697120411977, 0.7007477061470618, 0.7003108375781291, 0.6995881389121752, 0.6994241020969443, 0.6991517442102368, 0.6984369597724966, 0.6978821426227286, 0.6971448514912579, 0.6966178896459374, 0.6965515756526509, 0.6956659182906151, 0.6947702541947365, 0.6947047310705121, 0.6946431329926929, 0.6941561066621058, 0.6940806582570076, 0.6938673652507164, 0.6937568435395086, 0.6936723888927214, 0.6934224367141724, 0.6932629330738171, 0.6923146920429694, 0.6922932653813749, 0.6915240843553799, 0.6909716467599611, 0.6905821719886484, 0.6894881481657157, 0.6890262065304292, 0.6887966575654778, 0.6883473531217188, 0.6868916508313772, 0.6868051689218829, 0.6865247802154437, 0.6847971142143816, 0.6846471138902612, 0.6827431858794109, 0.6822945200712294, 0.6822841058711748, 0.6819133452467017, 0.6812544745972028, 0.6801932272878852, 0.6799208464453349, 0.6788172470153989, 0.678632998788679, 0.678588965655984, 0.6773379114834037, 0.6766960739686683, 0.6763974858095517, 0.6760130444088498, 0.675128259972946, 0.6744618017125774, 0.6742664115453089, 0.6740666181855911, 0.6734445148927939, 0.6720032144237209, 0.6720032144237209, 0.6720032144237209, 0.6719703499127079, 0.6719703499127079, 0.6716328037751688, 0.671621621460528, 0.6715340271994874, 0.6708611211663968, 0.6708333331185419, 0.6705346461888906, 0.6701324911335029, 0.6690910325662509, 0.6681477097240653, 0.6678695555877041, 0.6675740403903497, 0.6675740403903497, 0.665441412780736, 0.6653924173599965, 0.6646398650230588, 0.6640844835421523, 0.6639470329155793, 0.66365620211975, 0.6636375742586884, 0.6635589670087839, 0.6633117282511415, 0.663233953150543, 0.6627619157771807, 0.6613166998769786, 0.661200099901573, 0.6608049924913291, 0.6606302335858345, 0.6600279707360912, 0.659160537192145, 0.659160537192145, 0.6580090953691586, 0.6569201444854608, 0.6569201444854608, 0.6568353212866429, 0.6558056663017016, 0.6555956866894219, 0.6545909079345498, 0.6545656665756896, 0.6542949742964796, 0.6542949742964796, 0.6535540847359477, 0.6532014260018194, 0.652904184484804, 0.6525905059801566, 0.6510504965443868, 0.6510189614585928, 0.6506631728765127, 0.6503802624505919, 0.6498219982997789, 0.6495366652269621, 0.6492277275066118, 0.6483531314376239, 0.6475744843482971, 0.6475704208620496, 0.6475221824807089, 0.6474531480186694, 0.6473915442018896, 0.6468481212048918, 0.6466474645846598, 0.6457841911831418, 0.6456041060186721, 0.6441646447858295, 0.6434015901507558, 0.6430205523565009, 0.6427886639092419, 0.6426072365327462, 0.6425253426706469, 0.6409338114632143, 0.640814063516823, 0.6405297690952146, 0.6403362197247711, 0.6401478398490597, 0.63863215172613, 0.6385756933407203, 0.6384707334879283, 0.6381704364273999, 0.6373968871461378, 0.6365930369576892, 0.6365736082598971, 0.6362309244436186, 0.6347408845416598, 0.6347151133861091, 0.6344507762507812, 0.6343426454711605, 0.633980024505306, 0.6336784217808697, 0.6336261152818397, 0.6333371922373772, 0.6329717672354467, 0.6327283172994047, 0.6324120522350878, 0.6306698066559997, 0.6306449609833795, 0.6301418208592646, 0.6297242013183799, 0.6294347019614399, 0.6287568092748925, 0.6284531269323181, 0.6280456290051744, 0.6279175855420731, 0.6275017571610373, 0.6274929060726553, 0.6274852430498278, 0.6270734820816968, 0.6270734820816968, 0.6261781925285185, 0.6256783897610936, 0.6254524032811861, 0.6244588219938245, 0.6242496427651998, 0.6233522722849975, 0.6229399410454002, 0.6228151845972281, 0.6226208467741271, 0.6222693597948229, 0.6222541370504611, 0.6198319510833636, 0.6194437854998821, 0.6191127171387544, 0.618887339693469, 0.6185540905272638, 0.6183633590872224, 0.6180590414316267, 0.6177727418976862, 0.617292867520371, 0.6172358309094971, 0.6166315276075054, 0.6161554383265005, 0.6156533106758788, 0.615339714731719, 0.6146974628036086, 0.6145456127218298, 0.6145008043260187, 0.6136806317277856, 0.6122318002823237, 0.612028251628618, 0.611570688518318, 0.6115494269776989, 0.6110393310318122, 0.6092117315007223, 0.6084894754395291, 0.6080632542033453, 0.6080031280179281, 0.6078272254483119, 0.6076488277396639, 0.6073359643688073, 0.6071009039878845, 0.6061967869062681, 0.6058602522353869, 0.6057831204018077, 0.6056669045340369, 0.6045650186369548, 0.6044347841997404, 0.6042835082154017, 0.6041560640206208, 0.6032638156132117, 0.6032507860580006, 0.6014052379775692, 0.6012397627975489, 0.6011565686077684, 0.6004173018642374, 0.6000079867002126, 0.599685562573172, 0.5994125080571786, 0.5990582029964473, 0.5982210793205209, 0.5980479354793962, 0.5979785937312487, 0.5979395605422355, 0.597645122658562, 0.5973986894697756, 0.5970267490357966, 0.5966179928666837, 0.5966179928666837, 0.5966179928666837, 0.5962290179890555, 0.5959724699323241, 0.5959429477114935, 0.5953867683136785, 0.594754238386412, 0.5946194916158111, 0.5936876126640551, 0.5936690367556907, 0.5934067635318717, 0.5925960810603322, 0.5922723746783025, 0.592217435103816, 0.5917777068711616, 0.5916732482209399, 0.5915016926623679, 0.5910767208080034, 0.5898246461072484, 0.589806051874483, 0.5897242797387613, 0.5896001607179642, 0.5890788206377545, 0.5890094029742319, 0.5886108710153684, 0.5881819729063962, 0.5879070577589239, 0.5866523418273475, 0.5864189347705325, 0.5861045202693423, 0.586076814781975, 0.5853245161675118, 0.5852818799179953, 0.5849287457562782, 0.5845053818177532, 0.5844609167527508, 0.5843720295139261, 0.5843485722670684, 0.5836825525841197, 0.5834725368264561, 0.5834077500008248, 0.5819922858295408, 0.5816470995746754, 0.5805630712090312, 0.5801848018088857, 0.5800979433430208, 0.5781475998259878, 0.5779480637126677, 0.5779247130896594, 0.5776516511230856, 0.5775364893111024, 0.577285839093698, 0.5768950414415952, 0.5768055251321277, 0.5767648525133326, 0.5765585273101523, 0.5762451681736354, 0.5762092159003824, 0.5761841883933222, 0.5761839155409787, 0.5760861840602514, 0.575900330636147, 0.5758861422136023, 0.575723036720946, 0.5748440752158294, 0.5747194513678551, 0.5742222358648841, 0.5740103743769027, 0.5736125557607896, 0.5731326208726779, 0.5729678385966532, 0.5726662560089215, 0.5723683463560568, 0.5720448580545348, 0.5713049200539653, 0.5707395773481678, 0.5705185804415394, 0.5699964141523516, 0.5693623953171678, 0.5686312076207753, 0.5685318130496386, 0.5685318130496386, 0.5684922297258634, 0.5683249158633722, 0.5683205484135732, 0.5683205484135732, 0.5683194592192367, 0.5676571110615859, 0.5673686932470348, 0.5673357074123782, 0.5669603774676452, 0.5666490418685449, 0.5659139675868524, 0.5658336788214542, 0.5656378941761481, 0.564978062250727, 0.5648042897920351, 0.5645520002455324, 0.5643861668335425, 0.5630840133573558, 0.5628860721717011, 0.5627737789339311, 0.5627597735540286, 0.5626037349370685, 0.5625664595816586, 0.5623926538470629, 0.5622681056124132, 0.5617943313476201, 0.5616919652030274, 0.5616843696381595, 0.5615743338256269, 0.5614312955656567, 0.5610308609902859, 0.560787782677122, 0.5607425332874865, 0.5602433580804516, 0.5594052859657519, 0.5592953424800087, 0.5591495037078857, 0.5587592463235598, 0.5587337818500158, 0.5586645639426, 0.5585569129199595, 0.5583142177075953, 0.5580146022745079, 0.557868886235598, 0.5578037065428656, 0.5575471445918083, 0.5575401617868527, 0.5574291612248163, 0.5569059651445698, 0.5567440018057823, 0.5566958203106314, 0.556515578281235, 0.5564546599178701, 0.5563252805858045, 0.5545608900688791, 0.5542721740297369, 0.5541980113532092, 0.5541737276960064, 0.5540935840155627, 0.5534615536799302, 0.5530146502361104, 0.5530055630448703, 0.55277243659303, 0.5526832340134157, 0.5526382488173407, 0.5513110879707981, 0.5498476039517571, 0.5492486121082628, 0.5492407949389638, 0.5492004496422973, 0.5488016472474948, 0.5482927599066012, 0.5481053123602996, 0.5470827221870422, 0.5468564720169917, 0.5468421250179007, 0.546548164072069, 0.545990853293522, 0.5458176987799439, 0.5456441604607813, 0.5449946756298478, 0.5438895255729959, 0.542754562118569, 0.542637353813326, 0.5418868221946664, 0.5414378701432332, 0.5402439440021644, 0.5402143119356116, 0.5395937125022348, 0.5386670368748743, 0.5385404432544837, 0.5383256254465999, 0.5376602101164896, 0.5375977102163676, 0.537451637757791, 0.5370023071363166, 0.536010093785621, 0.5353316829816714, 0.5345693838757437, 0.5344165201122697, 0.5341786061589782, 0.5340417663793307, 0.5340097526440749, 0.5335575040127779, 0.5324169767869485, 0.5323160226280625, 0.5321051913338739, 0.5318191905279417, 0.5317898259775058, 0.5307089706530442, 0.5306556497675341, 0.5306513371902544, 0.5305175616129025, 0.5301744655982867, 0.5300119859544006, 0.5298184468536764, 0.5296483015691912, 0.5292257982734088, 0.5283844362239579, 0.5280833175858936, 0.5279949158430101, 0.5273029548493591, 0.5270610290604669, 0.5270591600722558, 0.5269752044130016, 0.5265789701527841, 0.5250032443452526, 0.5249592853156295, 0.5249252476402231, 0.5248548485137321, 0.5241263476577964, 0.5231523427206117, 0.5229998583326468, 0.5229617453910209, 0.5228086508609153, 0.5225063872498434, 0.5223577427300248, 0.5223481673243884, 0.5222280871223759, 0.5218953784253146, 0.5215006551227054, 0.5211488956937919, 0.5207246493648838, 0.5204014538510426, 0.5203555161888536, 0.5200830182513675, 0.5197884279328424, 0.5196161535946098, 0.5191930260609936, 0.5186677811717665, 0.5186228598090443, 0.5179181058664579, 0.5175886353528177, 0.5175740086549037, 0.5174432582146413, 0.5170969832185153, 0.516616277598046, 0.516616277598046, 0.5162433677831212, 0.5157823977438178, 0.5151654916840631, 0.5145184325205313, 0.5139443093055003, 0.5133941127239047, 0.5132539074968647, 0.5131198480926655, 0.5130265067155297, 0.5129256986484334, 0.5129044493912039, 0.5127568450328466, 0.5127443695390547, 0.5122052173356753, 0.512070926862794, 0.5115802312219465, 0.5114525975407781, 0.5109263779343786, 0.510664491234599, 0.5104908280678697, 0.5100746535368867, 0.5095240149546314, 0.5094861130456667, 0.5093797419119526, 0.5090092348085867, 0.508998393206983, 0.5082471104892525, 0.5079647600650787, 0.5078766999413838, 0.5077660188481614, 0.5077214261164537, 0.5076398434671197, 0.5072265621778127, 0.5069346941403441, 0.5069244812066491, 0.5069244812066491, 0.5067422724253423, 0.5065465706425745, 0.5063874241266701, 0.5062279973078418, 0.5061798206454999, 0.5060274278795397, 0.5059918990811786, 0.5059452991227846, 0.5056377323092641, 0.5055912503519574, 0.5050369299746849, 0.5043676801629968, 0.5036843652660783, 0.5036663002259023, 0.5036571837357573, 0.5036500039938334, 0.5033886911901269, 0.5027145403059754, 0.5023418060831122, 0.5023193415757772, 0.5020428175056303, 0.501919457839953, 0.5016051415051963, 0.5014252125008687, 0.5012565696158925, 0.5009136391249862, 0.5008305633390272, 0.5004223995917552, 0.5000418887750522, 0.4997664200695785, 0.4997101905378135, 0.4986826033406967, 0.4976551953602482, 0.4970435894824363, 0.4963180966473914, 0.4962908700108528, 0.4960520513154365, 0.4955900708163107, 0.4955082745165438, 0.495491245912539, 0.4951597335370811, 0.4946072874842463, 0.4944511082124066, 0.4941123015171772, 0.4939725431236061, 0.4923992495279055, 0.4923723189009202, 0.4923029050633714, 0.4922745453344809, 0.4917783451241416, 0.4916626563346064, 0.4916626563346064, 0.4914395257427886, 0.4912939268994976, 0.4911610645216864, 0.4909102751596554, 0.4901300566019239, 0.4901251873454532, 0.4896101140089937, 0.489382556161365, 0.4890182185414675, 0.4889723010159828, 0.4889610588953302, 0.4885029939783586, 0.4880918522138853, 0.4876799937841054, 0.4870409313085917, 0.48672965430730103, 0.4865697428986833, 0.4865231546195778, 0.4864828530195597, 0.4864684693716668, 0.4863955885977358, 0.4863752134748407, 0.4863484227979506, 0.4857217194260778, 0.4856356515272243, 0.4845611445001654, 0.4844860968154829, 0.4842378072239257, 0.4842174157903001, 0.4841939359903336, 0.4839876626391668, 0.483479726153451, 0.4829533323645592, 0.4822912384328004, 0.4818452538267986, 0.4818415218913877, 0.4812682504589493, 0.4804070265711965, 0.4801681331686072, 0.4799934045688526, 0.479907667113317, 0.4798832527689032, 0.4797353877409084, 0.4797152453983152, 0.4795261577174471, 0.4794853921677616, 0.4792967960238457, 0.4790719715324608, 0.4790193529145138, 0.478872719648722, 0.4785385864811975, 0.4785157329327351, 0.4782997617447698, 0.4775845589669975, 0.4772884042279141, 0.4766832895174221, 0.4766522221065856, 0.4765950715219652, 0.4764337678616112, 0.4763862462462606, 0.4763033096049283, 0.4763030679644765, 0.4760925423454594, 0.4757850907138877, 0.4755490112143594, 0.4750559055120558, 0.4747802790355038, 0.4746254348271602, 0.4745579311573828, 0.4744229702329314, 0.4743189457300547, 0.4738277188829474, 0.4728423357009888, 0.4726688736999357, 0.4723584982188972, 0.4720737966331275, 0.4720737966331275, 0.4720683528764827, 0.4717037291140169, 0.4716513475050798, 0.4714676167916607, 0.4710829992954796, 0.4709541040497858, 0.4695343761830717, 0.469016227770496, 0.468915859086288, 0.468885670239861, 0.4686157397321753, 0.4679821564539058, 0.4676382508430932, 0.4674753800437257, 0.4674129655232301, 0.467292653547751, 0.4671701758697226, 0.4663955343736185, 0.4661387799156679, 0.4658916930894594, 0.4653364129968591, 0.4648176572612814, 0.4646566067193005, 0.4646217098107209, 0.4640729014535208, 0.463972549986195, 0.463807640848933, 0.4636980722079406, 0.4635545675818985, 0.4631924115725466, 0.4631697309983743, 0.462917041536924, 0.4628868243984274, 0.4623938879451236, 0.4622377451207187, 0.4621718058714995, 0.4618862075982867, 0.4616578040090768, 0.4616466788826762, 0.4615418089402689, 0.46034787987937803, 0.4601019210106617, 0.4600989560823183, 0.4597639283417044, 0.4593424134560533, 0.4593257165035686, 0.4586298425455351, 0.4585225485466622, 0.4585206750276927, 0.4584919065237045, 0.4578867667430157, 0.4575760388696516, 0.457142593892845, 0.4570798672534324, 0.4567776596223986, 0.4562654583840757, 0.4557050353771931, 0.4556389451026917, 0.4550044997721106, 0.4547231370532835, 0.4546467484654607, 0.4546453956816647, 0.454300572743287, 0.4542447078872371, 0.4540271436845934, 0.4535872452967876, 0.4535225310639756, 0.4532892325439969, 0.4515813923365361, 0.451541463668282, 0.4514927074715898, 0.4509599603511192, 0.4509559559660989, 0.4501424161969004, 0.4496161802797705, 0.44959238513901423, 0.4494344964623451, 0.4490356090906504, 0.4490255890665827, 0.44782194978482015, 0.4474075154678242, 0.4471890886087675, 0.4469126680412808, 0.44685186224209295, 0.4467646627611405, 0.4462905816129736, 0.4462451234057143, 0.4459300077444798, 0.4458906137057253, 0.4458599763142096, 0.4455696312156884, 0.44546707578607503, 0.4453166767552093, 0.444834119162044, 0.44474101348503214, 0.444739156075426, 0.44450667983776815, 0.4444293033432316, 0.4443792543701224, 0.4443563339678017, 0.44397501607198975, 0.4439055442407325, 0.4437239765114075, 0.4427411167605503, 0.4420743967230255, 0.4417109582069758, 0.44129837827908025, 0.4410316859548157, 0.4404442270059843, 0.4403473807347788, 0.4401494427709967, 0.4401450406860661, 0.4400397700232428, 0.4398818942340644, 0.4389978175026339, 0.43870862432428304, 0.43870862432428304, 0.4386520800558297, 0.4386373156228581, 0.4386373156228581, 0.4385607065381231, 0.4384715572200917, 0.4384447130802516, 0.4381857349260433, 0.4381638543831336, 0.4381536648080155, 0.4380758239610775, 0.4378945960386379, 0.43774230536576864, 0.4376123114614874, 0.4376028204286421, 0.437359248464172, 0.437359248464172, 0.4372832380436562, 0.43677448340364394, 0.43653419170830704, 0.4360990423608471, 0.4359985461106172, 0.4359086429750597, 0.4358296225199828, 0.4357043097953539, 0.4355245981667493, 0.4352368229144329, 0.4351830091830846, 0.4348582079684412, 0.43431680589108856, 0.4343145650786322, 0.4339706996405447, 0.4336703208249968, 0.433484439914291, 0.4330844850959005, 0.4327213893065581, 0.43261005850257095, 0.4323730347929774, 0.4323730347929774, 0.4321476873513814, 0.4317737493563343, 0.4316194311187074, 0.4315382302612871, 0.43151298427098506, 0.4314824417233467, 0.4312072537235312, 0.4310135482936293, 0.4308562961381833, 0.4307161060136717, 0.4303140297934816, 0.4302700308931841, 0.4300570246335622, 0.4297941097536603, 0.4297267351601575, 0.42882782865215, 0.4285342916846275, 0.4283843096849079, 0.4279880765322093, 0.4278487184563199, 0.4274878940872244, 0.4270941655378084, 0.4270476698875427, 0.42684401028059626, 0.4268212948699255, 0.4266858950660035, 0.4265948848144429, 0.4263646385154208, 0.4260741512517672, 0.4260418688928759, 0.4258334713207709, 0.4258294327033533, 0.4252811299787985, 0.4249412421439145, 0.42482959901964346, 0.4245105200522655, 0.42426758017894384, 0.4241275602095837, 0.4241174076860016, 0.4240511567205996, 0.4239969853613828, 0.4239969853613828, 0.4239526858200898, 0.4237780802555986, 0.4236389512347208, 0.4233931895043399, 0.4231903977893494, 0.4228617790583018, 0.4227611231240066, 0.4227611231240066, 0.42275093364957217, 0.42272206939555496, 0.4226858462836292, 0.42198037617915385, 0.4213264193889257, 0.4212564552152479, 0.4210057387480864, 0.42074616132555787, 0.4206804937204799, 0.4205604493618012, 0.4201711412217166, 0.4200346115473155, 0.4199426746046221, 0.4194210018660571, 0.4194210018660571, 0.4193596421061335, 0.4191157109028584, 0.4190709433845572, 0.41880065041619374, 0.4187375576914968, 0.4186654417095957, 0.4186517353597525, 0.4185957701222317, 0.4183133055229444, 0.4182399503282599, 0.4179951178060996, 0.4179203502229743, 0.4178295375124829, 0.416822542008516, 0.416822542008516, 0.4167999800395321, 0.4165926531359956, 0.4164797591196524, 0.4162855619514311, 0.4161903868253166, 0.415685474268488, 0.4154765346163029, 0.4154623142770819, 0.41532344501968976, 0.4147892183548695, 0.4147639830370207, 0.414534132122188, 0.41373775939683655, 0.41286710186584574, 0.4128648485686328, 0.4127847020690506, 0.4127740727083104, 0.4122045587848973, 0.4120570264152579, 0.41145013997683655, 0.4112046433461679, 0.4111689168053705, 0.41102566288129705, 0.4109131464281598, 0.4107980309305964, 0.4107921365145091, 0.4107507277984877, 0.41048372234847097, 0.4104209820160993, 0.41009402496589203, 0.409814440116689, 0.4093537151410773, 0.4091941923708529, 0.40855727324614655, 0.4081223256684639, 0.40795824414974935, 0.40758445134034027, 0.4073582549352903, 0.4072744250297545, 0.407255568617099, 0.4070600096035648, 0.4070331031406248, 0.406889865930016, 0.4068435114380475, 0.4061770837854695, 0.4061395167498976, 0.4057334764180957, 0.4049686195479857, 0.4044784818952149, 0.4035494923591614, 0.4032763210502831, 0.40326222132992096, 0.4029858748655062, 0.4026610416335028, 0.4026434163789492, 0.4024503531085478, 0.4022345550962396, 0.40175940051070747, 0.4015265725351669, 0.4011711373522475, 0.4008086456640346, 0.4003916540862741, 0.3994816769216512, 0.3993081410188932, 0.3993081410188932, 0.39872288865012095, 0.3986727441283496, 0.3984814570159525, 0.3973117462686591, 0.3972060752881539, 0.3970459876833735, 0.3970329970926851, 0.3968494808351671, 0.39680140123173996, 0.3965984550682273, 0.3962838464492077, 0.3962735392757364, 0.3961362097714398, 0.3960290241080362, 0.3960075978491757, 0.39592524678320495, 0.3958715812580006, 0.3958106620891674, 0.39575403526022623, 0.3954626136534923, 0.3951626770399712, 0.3947717921959387, 0.39395592744286, 0.3936602563874142, 0.3934708257784715, 0.3932604519902049, 0.3932433398188772, 0.3929781265355445, 0.392951534809293, 0.3927967053007435, 0.3927123369397344, 0.39232651990007705, 0.3922687599787841, 0.39169952031728383, 0.3916257700404605, 0.39153660350554703, 0.39132761753894185, 0.3913037644044773, 0.3912345148824357, 0.3911630756951667, 0.3904647311648807, 0.3903853007265039, 0.3903806676735749, 0.3901430960442569, 0.3900927776420439, 0.3896317520254368, 0.3891498905581397, 0.3889935486824125, 0.3888348087265685, 0.3888348087265685, 0.388734837037486, 0.3879938375305485, 0.3876721927443065, 0.3876061959041132, 0.38758960768983175, 0.3872789603632849, 0.3870805385144981, 0.3864812174358884, 0.3862073041901395, 0.3860470354557037, 0.3856099701008281, 0.3855884864523604, 0.38511544909026174, 0.3850086073617678, 0.3849036053225801, 0.3846748687729642, 0.38465708171999136, 0.3845801055431366, 0.3845203132242769, 0.384302327761779, 0.3840852226759937, 0.3836595198592624, 0.3836473860853428, 0.3834793503220016, 0.3833175273360433, 0.3830109331253413, 0.3829499628092792, 0.3825468622349404, 0.3823789841419941, 0.3823444150589608, 0.3819761171534255, 0.38168176636099815, 0.38152423420467896, 0.3814051916470399, 0.3813645793376742, 0.3812570861867957, 0.3810912976796562, 0.38068633244649785, 0.3806155586766229, 0.3803290769055083, 0.380039506063268, 0.379807631308968, 0.37979448586702347, 0.3791362528462667, 0.3790185185703071, 0.3789931211519886, 0.37879140473700856, 0.3780299066691786, 0.3780168987609245, 0.3776525015363822, 0.3774328444253754, 0.3773712441325188, 0.3770993279444205, 0.3768886411310853, 0.3768331267543741, 0.3767338376995679, 0.3765989329565216, 0.376557828606786, 0.3764521834012624, 0.3755789967002096, 0.3754027425437361, 0.3753952569252735, 0.3749061694016328, 0.37454894023972585, 0.3745279134930791, 0.37435218762304334, 0.3742547236584328, 0.3742399908400871, 0.3740670344716793, 0.3738823851218095, 0.37373826833995616, 0.3736938810026323, 0.3735915678175721, 0.373496600099512, 0.37328623678233175, 0.3722394743078464, 0.3721966487733094, 0.372149823485194, 0.3720340412613508, 0.3718566499851845, 0.37184566380204376, 0.3717316513931429, 0.3713384097492373, 0.37123606877552495, 0.3710751887914296, 0.3709368423835652, 0.3703562419962239, 0.37028771014632395, 0.3698146010975581, 0.3696471490972752, 0.3695535265110633, 0.3694872034562601, 0.3693003521577733, 0.3692315156395369, 0.3685089878335193, 0.3683676303842584, 0.3683061559458036, 0.36790412744960266, 0.3674625093872482, 0.3669243124691216, 0.3668284045683371, 0.3663492488699991, 0.3659459122934857, 0.3656330090519544, 0.3654339760541916, 0.3651420953305992, 0.36513887023603603, 0.3646273065257717, 0.3644080029146092, 0.3640134580232002, 0.36400116859255616, 0.3638057692630871, 0.3636464462489695, 0.3632549830787891, 0.3630191264925776, 0.3625786332665263, 0.3621811004909309, 0.3619569600433916, 0.3619168062467832, 0.3618752650312476, 0.3614289114201391, 0.3612286913636569, 0.3611572904361261, 0.36074331241684987, 0.3606685883290057, 0.3606092736527726, 0.3600209210370038, 0.3597414849980457, 0.3596925626735429, 0.35969237278442123, 0.35968164334426056, 0.3596271711426813, 0.3595748187319653, 0.3594666566397693, 0.35933177978605835, 0.35923501526987234, 0.3590775758430764, 0.358777879863172, 0.3582074573716601, 0.35810415406484863, 0.357775778383822, 0.3576625134493854, 0.35727092986171305, 0.3570653280696353, 0.3570385267202919, 0.3570145996841224, 0.3566834004344167, 0.3562331372821653, 0.3561550241869849, 0.3559631608627938, 0.35574200507756826, 0.3556705703203743, 0.3554327979281142, 0.3553609872186506, 0.35534493987624705, 0.35479187965393066, 0.35459868106487635, 0.3540429054079829, 0.3537562618384489, 0.3530335746504165, 0.3530335746504165, 0.3529305533581489, 0.3528164516429644, 0.3527942899916623, 0.35274246818310506, 0.3522570648708859, 0.3516300634757893, 0.351577623571093, 0.3513176012280825, 0.3510681032328993, 0.35092973870200084, 0.3506933111395385, 0.3503447905988306, 0.35028591913145946, 0.3501719820338327, 0.3497921276736904, 0.34934082949483714, 0.34889459690532165, 0.3480851660306389, 0.3480372916202288, 0.3476884699351078, 0.34742927631816345, 0.34723086494046285, 0.34656100700030457, 0.34631415043730995, 0.3462788970083803, 0.34625931245249675, 0.34574574554288706, 0.3457007488688907, 0.3456078542245401, 0.3455340264214052, 0.3450351770262461, 0.34430961190043274, 0.3442102253839776, 0.3439492953790201, 0.3438867272154705, 0.34383453630112315, 0.3436256602809236, 0.3431982683974344, 0.3427262382732855, 0.3427240439766163, 0.3425164484494442, 0.3423401089133443, 0.3421223332753053, 0.3420949034594201, 0.3420826905482525, 0.3418658295193234, 0.3413468054621607, 0.3411547259704487, 0.3408040422442797, 0.34013360577660634, 0.33972260033762136, 0.3396850496127799, 0.3395917816339312, 0.3390468818110388, 0.33898050237346344, 0.3385984889558844, 0.3384409925422153, 0.3383581314135242, 0.3383510483277811, 0.33799542043660136, 0.33783713708052765, 0.33701202273368835, 0.3368579648636483, 0.3367637883167009, 0.3365310188886281, 0.3363388988214571, 0.33618806705281545, 0.3360545619114025, 0.3360536102507565, 0.33593183594780995, 0.33544729670157303, 0.3341740887310054, 0.3336699222390717, 0.33364617170111555, 0.3335644171850102, 0.3332468843137896, 0.3330128847344501, 0.3328796319059424, 0.33277050385604034, 0.33262039882105754, 0.3326028098125715, 0.3320129463398779, 0.3316949984511813, 0.3316109621444264, 0.3315796950781668, 0.3312985897064209, 0.33128206794326365, 0.33118861188759674, 0.33106349126712703, 0.3309955339174013, 0.3309149089697245, 0.33081503091631714, 0.3302746172490958, 0.3300407095938116, 0.3298899305833353, 0.32983757636031585, 0.3298326561579833, 0.32952334429766683, 0.3292846454156412, 0.329162448241904, 0.3290582307287164, 0.32899460136084946, 0.32898031054316346, 0.32892637760252563, 0.32875313227241104, 0.32871865219361074, 0.3285310077103408, 0.3282870622100057, 0.32810256287858297, 0.32802513362588104, 0.3278563157529444, 0.32767155605393483, 0.32766463305499105, 0.32760008927938106, 0.3275221940633413, 0.32750829611275645, 0.32738445517984593, 0.32712511839093383, 0.32600854699676096, 0.3258308848819217, 0.32571320396822856, 0.32549714216509384, 0.3253084396993792, 0.3252961877230052, 0.3250380971947232, 0.32478841293502503, 0.3245167647664612, 0.3245167647664612, 0.32417011583173594, 0.32377989127023804, 0.323688039908538, 0.3235099633803239, 0.3231991307960974, 0.3230148288043769, 0.3229430253441269, 0.32275313380602244, 0.32263285183423274, 0.32210904762551595, 0.32197038225225505, 0.3219387438651677, 0.32188935859783274, 0.3217359020097835, 0.3216589648981352, 0.3215277197997313, 0.3213782608509064, 0.3212425708770752, 0.3209311384204272, 0.3208784791263374, 0.3207402539414328, 0.3207270937996942, 0.3207239146168167, 0.3207159211506715, 0.3205666284303408, 0.3205443177674268, 0.32042027405790385, 0.31949459902338084, 0.31937848313434697, 0.3193051653939325, 0.3191315769343763, 0.3188773256701392, 0.3185569523154078, 0.3183354674964338, 0.3182729941767615, 0.3180332421451002, 0.3179988973849529, 0.3179101911751, 0.317736925305547, 0.31758647915479304, 0.31710205005632863, 0.3168781484301025, 0.3166333676592724, 0.3164732504535366, 0.31638606295392324, 0.3158747642426878, 0.3158265078389967, 0.3155279697195904, 0.3153075650334358, 0.3152484144713428, 0.315224355137026, 0.3151122750462713, 0.3150482258281192, 0.3138462385615787, 0.3138462385615787, 0.3137440012918936, 0.3135492302275993, 0.3135130276551118, 0.3133600825393522, 0.3133584349542051, 0.31322382108585256, 0.3130719303279311, 0.3129932074933439, 0.3129348460886929, 0.3128446864115225, 0.31274742814334666, 0.31165131040521565, 0.31164730964480225, 0.3116220235824585, 0.3115690559954256, 0.3113481301713634, 0.3109402382695997, 0.31080079582091924, 0.31078678208428456, 0.31071661251622273, 0.31061932122385183, 0.3104930650946256, 0.3102325188952524, 0.3101046069248302, 0.30991934843965474, 0.30987404367408233, 0.3098631227338636, 0.3098422228484541, 0.30977559713898484, 0.3096670758079838, 0.3096100905457059, 0.3094998839739207, 0.3090199952995455, 0.3087646832337251, 0.30845530351271505, 0.3082167022937053, 0.30791708746471924, 0.30763816712675873, 0.30738975429857096, 0.30736917237172257, 0.30736458382091003, 0.307083696932406, 0.3070753567122124, 0.3064314320280745, 0.3059825973736273, 0.3055226891427427, 0.30536819007751104, 0.30523614102118724, 0.3051384381345801, 0.3041660809839094, 0.3041390306442171, 0.303587663616683, 0.3034431652442829, 0.30339016302211863, 0.3033139121693533, 0.3026356270184388, 0.30220661976852936, 0.3021187911162505, 0.3019522076120248, 0.3019514293284029, 0.3015586629107192, 0.3015477902985908, 0.30153935664408915, 0.30126994566337484, 0.3009875489247812, 0.3009271549211966, 0.30048522252488785, 0.3000593286108326, 0.2999755514634622, 0.29962695490669555, 0.2995794365132177, 0.2995787436092222, 0.29927279820313324, 0.299235892054197, 0.2991393168230314, 0.2990825146033957, 0.2989411398365691, 0.2989373124531798, 0.2988778300381996, 0.2986772479237737, 0.2986188647714821, 0.2986122587242642, 0.2983210054603783, 0.2982443983893137, 0.2982231269817095, 0.29788289199004303, 0.2972358062460616, 0.2969998411230139, 0.2968597939691028, 0.29667594303955896, 0.29663435309319885, 0.296468319522368, 0.2964186024021458, 0.2964121377145922, 0.2963131992398081, 0.295881086305992, 0.2955293510411237, 0.2954108968779847, 0.2954015941233248, 0.29536807516942154, 0.2953402154348992, 0.2952499872929341, 0.2952219859973805, 0.2951195360840978, 0.29510242270456777, 0.29466459396723155, 0.2946567090379225, 0.29398098346349355, 0.2936458539318394, 0.2927269250959963, 0.2925162202603108, 0.29210876643254946, 0.2921023787678899, 0.2915141187809609, 0.2914212684373598, 0.2911188948798824, 0.29089865893931, 0.2906511615257006, 0.2906205009769749, 0.2904967146145331, 0.2904967146145331, 0.2904101710867237, 0.2902931973740861, 0.2900460402707796, 0.28975474532391576, 0.28975195175892604, 0.2896565335827905, 0.28953626671352906, 0.28950676483076976, 0.2894906923174858, 0.2894296863594571, 0.28927617842281184, 0.2891233760762859, 0.2889641966368701, 0.2888532216484482, 0.2887887076751606, 0.28865235762016195, 0.2886481836840913, 0.28860537768215744, 0.288464321075259, 0.2881943476763932, 0.2880650935946284, 0.28753085635803843, 0.28736400674726514, 0.2872031033039093, 0.2867044778289022, 0.2866135392640088, 0.2861662341936214, 0.2858590387009285, 0.2857588839692038, 0.2854801670119569, 0.285035672622758, 0.2847092054985665, 0.2845496974281363, 0.2842296949914984, 0.28398040289411675, 0.2839107320115373, 0.2838518643701399, 0.28385112897769826, 0.28340290446539185, 0.28258930025873963, 0.2824175974001756, 0.2824175974001756, 0.28238306013313497, 0.2817370011597067, 0.2813280981940192, 0.28131130015527883, 0.28111637363562714, 0.2804463481580889, 0.2801907046421154, 0.2799835143661177, 0.27988991302412913, 0.2796782690125543, 0.27922940254211426, 0.2790748919989612, 0.2785047816263663, 0.27812823693494537, 0.2781140043123348, 0.2778749530379837, 0.2778601964583268, 0.2776948463272404, 0.2775122821331024, 0.2762829484166326, 0.2762367578374373, 0.27605516362834626, 0.275820880322843, 0.2756896679465836, 0.275596680270659, 0.2748982922450917, 0.274765250247878, 0.2741354059528661, 0.27362196268262085, 0.2734552847372519, 0.27320017524667684, 0.2729622480031606, 0.27243479200311604, 0.272197341596758, 0.2721281454369828, 0.27210664326274714, 0.2719195879794456, 0.27179527927089386, 0.2713005059474224, 0.2712620980030781, 0.2712491500015194, 0.2711806997052721, 0.2709482857907141, 0.27090707058842123, 0.27084145352647115, 0.2708211476738388, 0.2706812507397419, 0.2705280829120327, 0.2704915033804404, 0.2696521765476948, 0.26903584196760844, 0.2689944183504259, 0.26852728788917124, 0.2682570573445913, 0.2681253641038328, 0.26768851300349106, 0.2672983504630424, 0.26724294552931915, 0.26717899135641154, 0.26704351624121536, 0.2670347138836577, 0.2670237768340755, 0.26694265330159983, 0.2667916231864208, 0.2667369335084349, 0.2666080263820855, 0.2664786236914428, 0.2660493778215872, 0.2659828952840857, 0.2659293380943505, 0.2657880863627872, 0.265665021297094, 0.26553079123432577, 0.26519538502435425, 0.2651782398288315, 0.2647380943636637, 0.2646121841830176, 0.2643233845765526, 0.2642664804651931, 0.2641725191796148, 0.26392795830159577, 0.2634145069766689, 0.26311024540179484, 0.2629372795691361, 0.262866031076457, 0.262676794786711, 0.26265052041491943, 0.262609456036542, 0.2625795385322055, 0.26249975771517364, 0.2624827075648952, 0.26237564392991963, 0.2621630450358262, 0.262040194627401, 0.2618446672284925, 0.2617536461031115, 0.2614321527448861, 0.2612742000334972, 0.26116695839005544, 0.26103353520502914, 0.2607552763578054, 0.2607314123495205, 0.26071821757265035, 0.26069403540443725, 0.2606740197217142, 0.26046700211795604, 0.2604333283127965, 0.26041941193712725, 0.2603758158715995, 0.2602795241652308, 0.2602195868621001, 0.2599433016132664, 0.2597505264991039, 0.2596925166813103, 0.25954333269918284, 0.2595325805045463, 0.2592921945694331, 0.2592685850890907, 0.2590649699842608, 0.2585007193926219, 0.2585007193926219, 0.2579825315121058, 0.2579354353853174, 0.2576003006181201, 0.25757069785047226, 0.2575567864082955, 0.2571791104368262, 0.2570489548348092, 0.2567628726765916, 0.2565241770164387, 0.2565146877958968, 0.2563012061086861, 0.2562677320596334, 0.25626285172797536, 0.25590924314550456, 0.2556635630694596, 0.25560877854759634, 0.25558358591956065, 0.2553501809770996, 0.25513949426444804, 0.2551204550105173, 0.2548422281806534, 0.25478729102257136, 0.2545704334168821, 0.2542719534925513, 0.2540612156326706, 0.2539069596174601, 0.25374425746299123, 0.2535378618820293, 0.25343506159009155, 0.25237253549936656, 0.2521927409075402, 0.25209859819025604, 0.2520894899561599, 0.2512352590423983, 0.25123469682561383, 0.2511520889159795, 0.2509648336752041, 0.25094536792587585, 0.250906294262087, 0.2504869055103611, 0.250430778071687, 0.250403339798386, 0.2501259844850849, 0.25002762775968856, 0.24991044039661825, 0.2499018194707664, 0.249532466804659, 0.24947678881722524, 0.2493670478060439, 0.248736326758926, 0.2484371412444759, 0.2484357453681328, 0.2483768132892815, 0.2482967896235956, 0.24781970780443496, 0.24775946704117024, 0.2474497451975539, 0.24738411726178344, 0.2469540012849344, 0.24687068607356105, 0.2462504087267695, 0.2461866945833773, 0.2460492863445669, 0.24594679998384936, 0.2455939247801497, 0.24525178163438235, 0.2445392495877033, 0.2444596878580145, 0.2441047538776655, 0.2440750461977881, 0.24368757281351736, 0.2433625012636185, 0.2432447148335947, 0.24324065205213186, 0.2428961653967161, 0.2428167500608677, 0.2425593137741089, 0.2421244461391423, 0.2421118923135705, 0.24198268394212466, 0.2419069405343081, 0.2417236538352193, 0.2416539836574245, 0.241648317390197, 0.2414712156798389, 0.24130776605090576, 0.240933498820743, 0.2404041338611293, 0.240341571537224, 0.24032290159045044, 0.2402958926316853, 0.24026737825290576, 0.2399480020677721, 0.2398524634741448, 0.2397757172584533, 0.2396363833466092, 0.2394206950793395, 0.2393692365369281, 0.2392788050142495, 0.2390701271392204, 0.2390292480185225, 0.23893552213101776, 0.2384327199008014, 0.2384043694347948, 0.23829226155538816, 0.2380759683815209, 0.23798848608055634, 0.2378397394676465, 0.23778964055551066, 0.2377404143681397, 0.2377088963985443, 0.23761191158681305, 0.2373539072436255, 0.2371703257431856, 0.2370295993782379, 0.236972824947254, 0.23696403608128835, 0.2368087929648321, 0.23675289649415665, 0.2365056936805313, 0.2363149052536165, 0.2363069367569845, 0.2361778922983117, 0.2359332861127081, 0.23579942374616056, 0.2357348932607753, 0.23549186579279, 0.23549186579279, 0.23501835461403875, 0.2348440176731831, 0.2347742210368853, 0.2346994707713256, 0.2342571398696384, 0.2342289307632962, 0.2340345624330881, 0.2337744042680069, 0.2336718146059964, 0.2336263890201981, 0.23343850833338664, 0.2333601616524361, 0.2332809124443982, 0.2332162800672893, 0.2330460790041331, 0.23289227767570606, 0.2328900026308524, 0.2328848854915516, 0.23277569300419576, 0.2326626485666713, 0.2323496067846144, 0.2318896119659012, 0.23178435016322785, 0.2314070044337092, 0.2313693028849524, 0.2313558938535484, 0.230739326090426, 0.2303323028860865, 0.2301521752331708, 0.2300390278970873, 0.22987164436159915, 0.22981914032149964, 0.2296094378909549, 0.2295655543739731, 0.2290865964180714, 0.2290180712132841, 0.2276817999176077, 0.2276558819654826, 0.2274719122293833, 0.2274401936982129, 0.2274311370140797, 0.2270598041044699, 0.22705148643738515, 0.2269500189939061, 0.2269500189939061, 0.2269401356980607, 0.2267300196596093, 0.22629522471814545, 0.2261076714541461, 0.22586153528174835, 0.22554128959372235, 0.2252401951197032, 0.22508100077912616, 0.22481446330611765, 0.2245803249848856, 0.2245263763376184, 0.2243206633909328, 0.2239378304094881, 0.22380917620014493, 0.22365974252288398, 0.22356196593593905, 0.2232462667130135, 0.22313210770890524, 0.2231077253818512, 0.2230984890783156, 0.22289504714914266, 0.22288378670408915, 0.22279119249936696, 0.222267429570894, 0.2219907069528425, 0.22186204348061533, 0.22185373266001007, 0.2217944616804252, 0.22172006159215368, 0.2214299053759188, 0.2211556418521984, 0.22085051359357047, 0.2199653056827752, 0.2199187451923216, 0.21977596468216665, 0.2194612533659548, 0.2193999838184666, 0.2191678809153067, 0.21892741715183128, 0.2188415656218657, 0.21871649494042267, 0.2186419659772435, 0.2183830540727925, 0.2183571618956488, 0.2181375751624236, 0.21801447948893984, 0.2178821136822572, 0.2173565078426052, 0.21733153248960912, 0.217318328449855, 0.2171489080867252, 0.2171258394782608, 0.21654135149878428, 0.2160031980759388, 0.21578444862687907, 0.21537607424968, 0.2150236344015276, 0.21494125594963887, 0.21479763090610504, 0.2144923733698355, 0.21436407517742465, 0.21431667538913526, 0.21426891475110446, 0.2142572112985559, 0.2142501674793862, 0.21408070341960805, 0.21402403953913096, 0.2139942049980164, 0.21393791485477145, 0.21393758219641607, 0.2136886389674368, 0.21366094173611816, 0.21346681585183014, 0.21276199012189292, 0.2126573823593758, 0.2126104316195926, 0.21260607041217186, 0.212469976093318, 0.21239498902011567, 0.21230358288094808, 0.2119883178053676, 0.21183420314982127, 0.2116034578632664, 0.21142885330561045, 0.2113805115222931, 0.21099024205594447, 0.21029055843482147, 0.2101788979929846, 0.20946582587989604, 0.2094305197934847, 0.20931634548548106, 0.20926591190131927, 0.20911948423127869, 0.20911705332833366, 0.20891884694228305, 0.20832634737362726, 0.2079262693186064, 0.2077478283160442, 0.20765612294545044, 0.20743070180351675, 0.20726356514402333, 0.20710111792023125, 0.2069383134713044, 0.20690523208798586, 0.20685997524776967, 0.20665029577306804, 0.2062833792454487, 0.20574659350756053, 0.2056480062168997, 0.20563985850359945, 0.20548270179613207, 0.20536180122478587, 0.20522661990410573, 0.20519246201257446, 0.2051597769195969, 0.2050334303765684, 0.2046489038982907, 0.2044129375670407, 0.20437187318866312, 0.20406804696933645, 0.20401303832595408, 0.20401303832595408, 0.2037705972387984, 0.2033847699294219, 0.2029202628780056, 0.2028373592608685, 0.2026339994894492, 0.2026244748283077, 0.2020684013495574, 0.2020527490892926, 0.20193206297384725, 0.20182128854700032, 0.20175750352240893, 0.2015460757790385, 0.2015388736853728, 0.20122232872086604, 0.2011937277542578, 0.20110624142595235, 0.20088615651066244, 0.20075749303843526, 0.2006738181855228, 0.20022670078921967, 0.20012879532736705, 0.1999215809880076, 0.1997540983799342, 0.19971534045966896, 0.19959683676023746, 0.1995818937146986, 0.19951369794639384, 0.1993062774071822, 0.1991086344461184, 0.19908035043123606, 0.19899364500432404, 0.19890492792065084, 0.1988251668375891, 0.1985706107036488, 0.1985700162681373, 0.19801679414671824, 0.19763954346244395, 0.19754988841108376, 0.1973573839342272, 0.1971758571830956, 0.19692794817524986, 0.1968907649452621, 0.19683949931247813, 0.19656695868517904, 0.1964895286270089, 0.19639787802825104, 0.1963254334153356, 0.19596049632575066, 0.1957783030497061, 0.19568504030640066, 0.19544021825532654, 0.19538817776216044, 0.19535473714003693, 0.19492446651329864, 0.19482088411176526, 0.19465923953700714, 0.19444640826534576, 0.1943757662902007, 0.194235263644038, 0.1942063215616588, 0.19410629691304385, 0.1940710174070822, 0.19380925394393306, 0.1937072518709544, 0.1927744407911558, 0.19268373379836207, 0.1925634608880894, 0.19223295675741656, 0.1921908629907144, 0.1921731620221525, 0.1921571251508352, 0.1921514369346, 0.19119465723633766, 0.19105559788845689, 0.1909249984734768, 0.1908992561134132, 0.19061748401538747, 0.19010218655740896, 0.18995917165601567, 0.189794165057105, 0.1891729219539745, 0.18878551310784109, 0.1883176524896879, 0.1880073740675643, 0.18757570071800334, 0.18746788840036133, 0.18716017197112766, 0.18710866892659986, 0.18704118358122326, 0.18701631716779765, 0.18689322471618647, 0.18683950965468946, 0.1867766267544514, 0.1866929482769321, 0.18660549779196045, 0.18654371516124624, 0.186428068457423, 0.18630265545200653, 0.1860311595169274, 0.18582838008532654, 0.1857149359342214, 0.18552605042586456, 0.1851921862847096, 0.18487366631224345, 0.1848669285709793, 0.18460444663022013, 0.18442537655701507, 0.18432063186490846, 0.18429826441648844, 0.18413389695657267, 0.1838756558057424, 0.1837390677348988, 0.18365201756760885, 0.18363738341911406, 0.18347869048247467, 0.18329017790588176, 0.18321334107502085, 0.1832066452181017, 0.18248473953556368, 0.18237208997881094, 0.18220466858631856, 0.1818808687699808, 0.1818371910501171, 0.18132183036288696, 0.18118817379345764, 0.18115453683846705, 0.18107508968662567, 0.1808668238085669, 0.18074491861704234, 0.18037932225175798, 0.18036684716070006, 0.18002256992700938, 0.17955941042384582, 0.17950767238397858, 0.1792634612805134, 0.1791912897213085, 0.17896701033050955, 0.17879292610529307, 0.1786096168530954, 0.17839333898312335, 0.17839333898312335, 0.17821204179042094, 0.1781219525917156, 0.17793046864303386, 0.17776049633283875, 0.1777183792075595, 0.1775658791129654, 0.1774764640911205, 0.17728044052381775, 0.17682390519090596, 0.17657419716989675, 0.17643914955693318, 0.17640196310507286, 0.1763311270120982, 0.17624713762386424, 0.1762126466712436, 0.17620166169630513, 0.17613982348828705, 0.17612284180280324, 0.17593973391764872, 0.1759363300091511, 0.17573533791142534, 0.17571705096476786, 0.17569589292680898, 0.17562259210122594, 0.1752631664276123, 0.1748766641359072, 0.17425892401385956, 0.1742146276944393, 0.17410938119566122, 0.1740644630548116, 0.17393800052436625, 0.1739069771122288, 0.17386502349698862, 0.17374223873421954, 0.1736622436626537, 0.17353855234545634, 0.1734241770731436, 0.17324352586591565, 0.1728054426006369, 0.17272204643971212, 0.1726077102326058, 0.17253967072512655, 0.17239550642065105, 0.17221696312363088, 0.1721912179444287, 0.17204817404618133, 0.17184791572996086, 0.1716368053410504, 0.17154161752881225, 0.17151241648841553, 0.17133375357937164, 0.17120141274220235, 0.17086734965040873, 0.17063796198045889, 0.17061537826383433, 0.17008670036857187, 0.170038244208774, 0.17003676698014547, 0.16988961116687673, 0.16978273198411276, 0.169627640295673, 0.16961525420884827, 0.1690256370080484, 0.16892474627978096, 0.1688160123051824, 0.16869389688646474, 0.16824316414626872, 0.168034735563639, 0.16797763995222148, 0.16786706125414053, 0.16742079614384753, 0.16735450963716247, 0.16702713676401082, 0.16685919826095166, 0.16677489796200318, 0.16646279958454335, 0.16625966252507385, 0.1662079784515742, 0.16612962291047384, 0.1659052380033441, 0.16589540202875394, 0.16585682533882762, 0.16582982846208516, 0.16579701127232727, 0.16555165600132293, 0.16537940824354014, 0.16504990893441274, 0.16501337893911305, 0.1650091808389973, 0.16493119581325633, 0.16484773602034594, 0.16478886717074626, 0.16458782795313245, 0.16449715640093832, 0.16444317875681702, 0.16413322816023956, 0.16411016599552053, 0.1640496729193507, 0.1639860256298168, 0.1639515596467096, 0.1638552570665205, 0.1637504155168662, 0.16319866981860753, 0.1628948788385134, 0.16288092490789052, 0.1625943586633012, 0.16255496402044556, 0.16249587568076884, 0.1620395054688325, 0.1620145568976531, 0.16200392310683787, 0.16196491186683235, 0.16173121413669067, 0.16171157803084402, 0.16164054258449656, 0.1615767615872461, 0.161477356343656, 0.16133919277706665, 0.1612965545138797, 0.16123238850284272, 0.1611708620110074, 0.16068346919240173, 0.15976984758634827, 0.15967164329580366, 0.15945276899917704, 0.15934457005681213, 0.15914263435312215, 0.1590721216556188, 0.1589170549366925, 0.15880171189437042, 0.15871800925280602, 0.15849900406760142, 0.15842601576366944, 0.1582184055367032, 0.158171982378573, 0.15814860769220296, 0.15793697334624626, 0.15759791312990967, 0.1575963650200818, 0.15715862448151052, 0.1569679363353832, 0.1568929005313564, 0.15683215051083954, 0.15639999508857727, 0.15619324510161936, 0.15615229832159505, 0.15585829116202687, 0.15572147836556305, 0.15566700374757925, 0.15546452515834086, 0.15529107483657634, 0.15513972374233045, 0.15491434851208252, 0.15477133280522115, 0.15474229547623042, 0.1547225367378544, 0.15469367359135594, 0.1540935289215397, 0.15364554403601471, 0.15348706374297272, 0.15298213588224874, 0.1527695438346347, 0.15255927072988973, 0.15214590768556335, 0.15213267545442322, 0.15212963239566699, 0.15206258361404, 0.15192230005522034, 0.1516646388414744, 0.15159295136864126, 0.15134331181242655, 0.15112661751540934, 0.15106577244964806, 0.1509768431251114, 0.1509131080395466, 0.1508576757199055, 0.15062247418068553, 0.1505204721077068, 0.15037251646454275, 0.15027094692797272, 0.15018645492759908, 0.1500665827377422, 0.1499616209719632, 0.1497969885130186, 0.14858620190942606, 0.14810437447315938, 0.1479767713997815, 0.14793806261307485, 0.14792912715190165, 0.14784302340971456, 0.14783490831787527, 0.1477927428645056, 0.1470102629548794, 0.14684297587420492, 0.14657874204017018, 0.1463846882452836, 0.14602959075489566, 0.14530458401989288, 0.14460293505642866, 0.14442345419445554, 0.1439623961577544, 0.14391998624479452, 0.14339963487676674, 0.1431597978682131, 0.14309858792536967, 0.14260725717286804, 0.14236528647912516, 0.1421736478805542, 0.1417954274126001, 0.141777025686728, 0.14167315734399333, 0.1416670430350948, 0.14166476275469808, 0.14156830149727895, 0.14103097851211965, 0.14085771868357788, 0.14085201637164968, 0.14070034188193248, 0.140020265772536, 0.13993309840962698, 0.13965850907403066, 0.13947014228717702, 0.13943077100289836, 0.13939239044447205, 0.13918824856345713, 0.138599651890832, 0.13820153152620476, 0.1381510109514803, 0.13808628272365875, 0.13751512443697134, 0.13736679747297953, 0.13673822581768036, 0.1367049716614388, 0.13664351282893006, 0.13658468465547302, 0.13653268201931099, 0.1365247666835785, 0.13640781995412465, 0.13640631695051453, 0.1363595482465383, 0.13603459822164998, 0.13590392389812989, 0.13575245883013753, 0.1357138833484134, 0.13545732723700032, 0.13513585200180878, 0.13500045924573334, 0.13484291289303751, 0.13467109283885434, 0.1345989059757542, 0.13450538145529256, 0.1342867129557842, 0.13421658648026955, 0.1340130905847292, 0.13401136043909434, 0.13384746860813446, 0.13369476956290172, 0.13362585692792328, 0.13358607324394026, 0.13344775663839806, 0.13291672274873068, 0.1325161005999591, 0.1322280587376775, 0.13213662118525116, 0.13207327997362295, 0.13169759350853993, 0.13102752775759308, 0.13087873603846578, 0.13084290961961487, 0.13031583541148414, 0.1298421081658956, 0.12898967636598124, 0.1289373467097411, 0.12893514053241628, 0.1287928497469103, 0.12877946125494466, 0.12875270199131314, 0.1286613280708725, 0.1283634160016034, 0.12824085676992258, 0.1282224349073462, 0.12819240141559296, 0.12808013042888122, 0.12804694795930704, 0.12783834579828626, 0.12750821178023874, 0.1270025791348638, 0.12697051787698588, 0.1269036644213909, 0.12669928331632874, 0.12649644146094452, 0.12640551054799876, 0.12599934275085867, 0.12564401691024366, 0.12552109119054433, 0.1255021739650417, 0.12539564596640096, 0.1252124551180247, 0.12504784642039124, 0.12493957216675222, 0.12492239153062976, 0.12488278988245373, 0.1248694859646462, 0.12485618687964772, 0.12485618687964772, 0.12483030074351542, 0.12455980358897036, 0.12437927722930907, 0.12410332786070333, 0.12397998571395875, 0.12384306901210065, 0.12383976820352915, 0.12382856816858855, 0.12331588123295754, 0.12331588123295754, 0.12308207557008075, 0.12304904170938435, 0.12289026137944815, 0.12271103987822662, 0.12250489801973907, 0.122422484932719, 0.12233123747078145, 0.12229798754324785, 0.12220690701458906, 0.12217650059107188, 0.12198293531263192, 0.12181215189598706, 0.12176031518626862, 0.12171334511524926, 0.121564008094169, 0.12152746722504905, 0.12152073834393473, 0.1214953081027882, 0.12123023738732208, 0.12098241980011405, 0.12050113404119335, 0.12039700069942992, 0.12039133181443085, 0.1203723070589272, 0.12017608333278353, 0.11987584990424086, 0.11941625943055025, 0.11934012818980864, 0.11925527050688454, 0.11909147211023274, 0.11908797476742715, 0.11892605391708574, 0.11825299263000487, 0.11803610904796702, 0.11757553751404225, 0.1174713373184204, 0.11514616818041412, 0.1149367835070636, 0.11491939908749348, 0.11463292547174395, 0.11441200166135225, 0.11426163203007468, 0.11345345265156515, 0.1129495332369933, 0.1129476621344283, 0.11224976745811666, 0.1121065197764216, 0.1119757053014394, 0.1119757053014394, 0.1111802128521172, 0.11089666147489807, 0.11089666147489807, 0.11059855126045848, 0.11046920918129588, 0.10983786228540783, 0.10976657754666096, 0.10952916177543437, 0.10898157229294647, 0.1089348809139149, 0.10886629046620544, 0.10883122521477773, 0.10793349388483407, 0.10769675390140432, 0.10724070587673706, 0.10710948866766856, 0.10706934413394407, 0.10671640409005656, 0.1064312055304244, 0.1062489071407834, 0.10580492422387412, 0.10547556587167684, 0.1051463823060732, 0.10477415613225992, 0.10456641864132232, 0.104345086458567, 0.10433987346855368, 0.10425106738064738, 0.1041758253767684, 0.10408392306920644, 0.10397155361401067, 0.10397155361401067, 0.10392411898922273, 0.1034740837844642, 0.10331140136396566, 0.10244154366287027, 0.1011427761735143, 0.10085805203463584, 0.10070896470868906, 0.09987396485096699, 0.09958300075015504, 0.09937201963888632, 0.0991485344397055, 0.09875452921197224, 0.09850107979130096, 0.0979620186058251, 0.09755571629550007, 0.09752852530092804, 0.09749092443569284, 0.09692456593384613, 0.09678451273892373, 0.0966329816225413, 0.09621264000196716, 0.09600453602301108, 0.09592387321833018, 0.09574791225227153, 0.09565451499578116, 0.09508893457618917, 0.09503315751617014, 0.0950260629525056, 0.09501321895702464, 0.09476384601077514, 0.09290712105261313, 0.09285928268690367, 0.09264246837512867, 0.09229099106144256, 0.09168827533721924, 0.09085666327863128, 0.0906645816725653, 0.09045639553585573, 0.09000953307022919, 0.08912072189756337, 0.08887404686695821, 0.08858091927863454, 0.08780608628247233, 0.08550709324914052, 0.0847861734596459, 0.08448199806986634, 0.08350819188195302, 0.08328032976872213, 0.0832470349363379, 0.08300706180366313, 0.08276099006871918, 0.08275668282766603, 0.0826551817558907, 0.08254780962660503, 0.08207672351115458, 0.08168692202181428, 0.08160376387673451, 0.08146481578414501, 0.08128021697740295, 0.08102827136581002, 0.08095229235855306, 0.08044619012523346, 0.08044431741173208, 0.0787039004467629, 0.07832934727539886, 0.0770659092310313, 0.07697058771107645, 0.07561412131464162, 0.07529088613149283, 0.07497620904767832, 0.07458699474463593, 0.07446816160872173, 0.07424342310106435, 0.073405567053202, 0.07330073375959656, 0.07325649100380971, 0.07320429344434998, 0.07309347713315806, 0.07177232085047547, 0.07130287627916078, 0.07095866589932831, 0.07074035019487945, 0.07067109443045949, 0.07047800276730509, 0.07031473920151997, 0.06998613235112783, 0.06953443385459279, 0.06925229124120769, 0.06896826383229847, 0.06814094008626159, 0.06810726507289988, 0.06803879544541648, 0.0672174337747935, 0.06700123645163869, 0.06693784610645193, 0.06666248553508036, 0.06561692018766663, 0.06519791725519541, 0.06456430054999683, 0.06397404541840424, 0.06356962145985777, 0.06268693788631541, 0.06259382415462189, 0.06247183922174815, 0.062039966518814486, 0.06199638183052481, 0.06193842275722605, 0.06187382904258931, 0.0615114038055008, 0.0613945480939504, 0.06119591642070465, 0.060761864120895785, 0.06004191854515595, 0.05893032293061951, 0.058473337340999236, 0.058470131577672224, 0.05831332786663158, 0.05799217159683645, 0.05778855568653829, 0.05755217494191345, 0.05741821269731263, 0.05721124281754364, 0.05701982652818838, 0.05638869227589782, 0.05575690801079214, 0.05548988484047557, 0.05512689738660248, 0.054473150420833234, 0.0539163471879186, 0.05302357029270477, 0.0527615772711264, 0.052498210120845434, 0.052498210120845434, 0.05180436856037862, 0.051177788425136206, 0.05080466979258769, 0.050461997856964924, 0.050217721913311975, 0.05000899047464935, 0.04926668308876658, 0.04833235933973978, 0.04785382103275604, 0.046959301909884836, 0.04686853370151002, 0.04522225824562276, 0.044732654416883344, 0.04473151226301453, 0.04466984239784444, 0.044495611577420664, 0.044491326486742144, 0.04406174131341878, 0.043861522867872926, 0.04382452288189453, 0.04315025419802277, 0.0428343334713498, 0.04183853639138714, 0.040924023937534686, 0.040876145298416544, 0.040313717481252336, 0.03984311303576904, 0.039494978414999486, 0.0394396926905658, 0.03914926019874776, 0.039080987105498455, 0.03904342490273549, 0.038969325052725316, 0.038856311424358525, 0.03880058591430247, 0.03816142114433085, 0.03703610639314392, 0.03691677789430359, 0.03647150703378621, 0.03595502473212575, 0.035116785281413265, 0.03497270474562775, 0.03495223941029724, 0.034717339116173807, 0.03457194405633046, 0.03439654530705627, 0.03415431203068908, 0.03280642064842021, 0.03191340452915914, 0.03188140327866018, 0.03139788556743317, 0.0311139870334316, 0.030268601469091494, 0.028963660871660364, 0.02839574137249512, 0.02803798623987141]\n"
          ],
          "name": "stdout"
        }
      ]
    },
    {
      "cell_type": "code",
      "metadata": {
        "id": "fttQUgNfj4oS",
        "colab_type": "code",
        "colab": {}
      },
      "source": [
        ""
      ],
      "execution_count": 0,
      "outputs": []
    },
    {
      "cell_type": "markdown",
      "metadata": {
        "id": "6qGzaMxgmfKT",
        "colab_type": "text"
      },
      "source": [
        "Find Best Threshold with Maximum Accuracy."
      ]
    },
    {
      "cell_type": "code",
      "metadata": {
        "id": "LFvfm3Jug699",
        "colab_type": "code",
        "outputId": "c828c550-b13b-4586-dcad-770d05455156",
        "colab": {
          "base_uri": "https://localhost:8080/",
          "height": 35
        }
      },
      "source": [
        "A_metric = []\n",
        "for i in thresholds:\n",
        "  FN ,FP= find_FN_FP(final_data,i)\n",
        "  A = (500*FN) + (100*FP)\n",
        "  A_metric.append(A)\n",
        "print(\"Best Threshld is \",thresholds[A_metric.index(min(A_metric))])"
      ],
      "execution_count": 22,
      "outputs": [
        {
          "output_type": "stream",
          "text": [
            "Best Threshld is  0.2300390278970873\n"
          ],
          "name": "stdout"
        }
      ]
    },
    {
      "cell_type": "markdown",
      "metadata": {
        "id": "sD4CcgjXQvoL",
        "colab_type": "text"
      },
      "source": [
        "<pre>\n",
        "<font color='red'><b>D.</b></font> Compute performance metrics(for regression) for the given data <strong>5_d.csv</strong>\n",
        "    <b>Note 2:</b> use pandas or numpy to read the data from <b>5_d.csv</b>\n",
        "    <b>Note 1:</b> <b>5_d.csv</b> will having two columns Y and predicted_Y both are real valued features\n",
        "<ol>\n",
        "<li> Compute Mean Square Error </li>\n",
        "<li> Compute MAPE: https://www.youtube.com/watch?v=ly6ztgIkUxk</li>\n",
        "<li> Compute R^2 error: https://en.wikipedia.org/wiki/Coefficient_of_determination#Definitions </li>\n",
        "</ol>\n",
        "</pre>"
      ]
    },
    {
      "cell_type": "code",
      "metadata": {
        "id": "edZuoETWxNVP",
        "colab_type": "code",
        "outputId": "f690bb64-906a-4ef2-baf8-d9099391714d",
        "colab": {
          "resources": {
            "http://localhost:8080/nbextensions/google.colab/files.js": {
              "data": "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",
              "ok": true,
              "headers": [
                [
                  "content-type",
                  "application/javascript"
                ]
              ],
              "status": 200,
              "status_text": ""
            }
          },
          "base_uri": "https://localhost:8080/",
          "height": 74
        }
      },
      "source": [
        "from google.colab import files\n",
        "uploaded = files.upload()"
      ],
      "execution_count": 0,
      "outputs": [
        {
          "output_type": "display_data",
          "data": {
            "text/html": [
              "\n",
              "     <input type=\"file\" id=\"files-ae513346-04e6-4f21-887c-0f4a655b4d24\" name=\"files[]\" multiple disabled />\n",
              "     <output id=\"result-ae513346-04e6-4f21-887c-0f4a655b4d24\">\n",
              "      Upload widget is only available when the cell has been executed in the\n",
              "      current browser session. Please rerun this cell to enable.\n",
              "      </output>\n",
              "      <script src=\"/nbextensions/google.colab/files.js\"></script> "
            ],
            "text/plain": [
              "<IPython.core.display.HTML object>"
            ]
          },
          "metadata": {
            "tags": []
          }
        },
        {
          "output_type": "stream",
          "text": [
            "Saving 5_d.csv to 5_d.csv\n"
          ],
          "name": "stdout"
        }
      ]
    },
    {
      "cell_type": "code",
      "metadata": {
        "id": "Al6dDrRexp7N",
        "colab_type": "code",
        "outputId": "a98fd651-f029-48cd-95ef-56cf1efd506f",
        "colab": {
          "base_uri": "https://localhost:8080/",
          "height": 204
        }
      },
      "source": [
        "data = pd.read_csv(\"5_d.csv\")\n",
        "data.head()"
      ],
      "execution_count": 0,
      "outputs": [
        {
          "output_type": "execute_result",
          "data": {
            "text/html": [
              "<div>\n",
              "<style scoped>\n",
              "    .dataframe tbody tr th:only-of-type {\n",
              "        vertical-align: middle;\n",
              "    }\n",
              "\n",
              "    .dataframe tbody tr th {\n",
              "        vertical-align: top;\n",
              "    }\n",
              "\n",
              "    .dataframe thead th {\n",
              "        text-align: right;\n",
              "    }\n",
              "</style>\n",
              "<table border=\"1\" class=\"dataframe\">\n",
              "  <thead>\n",
              "    <tr style=\"text-align: right;\">\n",
              "      <th></th>\n",
              "      <th>y</th>\n",
              "      <th>pred</th>\n",
              "    </tr>\n",
              "  </thead>\n",
              "  <tbody>\n",
              "    <tr>\n",
              "      <th>0</th>\n",
              "      <td>101.0</td>\n",
              "      <td>100.0</td>\n",
              "    </tr>\n",
              "    <tr>\n",
              "      <th>1</th>\n",
              "      <td>120.0</td>\n",
              "      <td>100.0</td>\n",
              "    </tr>\n",
              "    <tr>\n",
              "      <th>2</th>\n",
              "      <td>131.0</td>\n",
              "      <td>113.0</td>\n",
              "    </tr>\n",
              "    <tr>\n",
              "      <th>3</th>\n",
              "      <td>164.0</td>\n",
              "      <td>125.0</td>\n",
              "    </tr>\n",
              "    <tr>\n",
              "      <th>4</th>\n",
              "      <td>154.0</td>\n",
              "      <td>152.0</td>\n",
              "    </tr>\n",
              "  </tbody>\n",
              "</table>\n",
              "</div>"
            ],
            "text/plain": [
              "       y   pred\n",
              "0  101.0  100.0\n",
              "1  120.0  100.0\n",
              "2  131.0  113.0\n",
              "3  164.0  125.0\n",
              "4  154.0  152.0"
            ]
          },
          "metadata": {
            "tags": []
          },
          "execution_count": 25
        }
      ]
    },
    {
      "cell_type": "code",
      "metadata": {
        "id": "DDbyuUYfyG-k",
        "colab_type": "code",
        "colab": {}
      },
      "source": [
        "y_actual = data[\"y\"]\n",
        "y_predicted = data[\"pred\"]"
      ],
      "execution_count": 0,
      "outputs": []
    },
    {
      "cell_type": "markdown",
      "metadata": {
        "id": "U4GPs806feTf",
        "colab_type": "text"
      },
      "source": [
        "Calculate MSE"
      ]
    },
    {
      "cell_type": "code",
      "metadata": {
        "id": "VVCSj7dsyn6Y",
        "colab_type": "code",
        "outputId": "742d2f8e-4511-4459-908c-3dffe96044b4",
        "colab": {
          "base_uri": "https://localhost:8080/",
          "height": 34
        }
      },
      "source": [
        "average = sum(y_actual)/len(y_actual)\n",
        "MSE = 0\n",
        "for i in range(len(y_predicted)):\n",
        "  MSE = MSE + (y_actual[i]-y_predicted[i])*(y_actual[i]-y_predicted[i])\n",
        "MSE = MSE/len(y_predicted)\n",
        "print(MSE)"
      ],
      "execution_count": 0,
      "outputs": [
        {
          "output_type": "stream",
          "text": [
            "177.16569974554707\n"
          ],
          "name": "stdout"
        }
      ]
    },
    {
      "cell_type": "markdown",
      "metadata": {
        "id": "GagMq5-dfkhe",
        "colab_type": "text"
      },
      "source": [
        "Calculate Rsquare error"
      ]
    },
    {
      "cell_type": "code",
      "metadata": {
        "id": "-ZBZF_ov5T76",
        "colab_type": "code",
        "outputId": "dfcd11ed-62a9-48f9-ba8e-e114b3eeb45b",
        "colab": {
          "base_uri": "https://localhost:8080/",
          "height": 35
        }
      },
      "source": [
        "SSres = 0\n",
        "SStotal = 0\n",
        "for i in range(len(y_predicted)):\n",
        "  SStotal = SStotal +(y_actual[i] - average) * (y_actual[i] -average)\n",
        "  SSres = SSres + (y_actual[i] - y_predicted[i]) * (y_actual[i] - y_predicted[i])\n",
        "Rsquare = 1 - (SSres/SStotal)\n",
        "print(\"R square error is \",Rsquare) "
      ],
      "execution_count": 0,
      "outputs": [
        {
          "output_type": "stream",
          "text": [
            "R square error is  0.9563582786990964\n"
          ],
          "name": "stdout"
        }
      ]
    },
    {
      "cell_type": "markdown",
      "metadata": {
        "id": "Gb0V_Fd_fqyX",
        "colab_type": "text"
      },
      "source": [
        "Calculation of MAPE"
      ]
    },
    {
      "cell_type": "code",
      "metadata": {
        "id": "F63tktfXcd49",
        "colab_type": "code",
        "outputId": "8678a976-5557-4f3c-e00d-e71f41231430",
        "colab": {
          "base_uri": "https://localhost:8080/",
          "height": 34
        }
      },
      "source": [
        "MAPE = 0\n",
        "for i in range(len(y_predicted)):\n",
        "  if(y_actual[i]!=0.0):\n",
        "    MAPE = MAPE + abs((y_predicted[i]-y_actual[i])/y_actual[i])\n",
        "MAPE = 100 *MAPE/len(y_predicted)    \n",
        "print(\"Mean absolute percentage error is\", MAPE,\"%\") "
      ],
      "execution_count": 0,
      "outputs": [
        {
          "output_type": "stream",
          "text": [
            "Mean absolute percentage error is 28.071561310510702 %\n"
          ],
          "name": "stdout"
        }
      ]
    },
    {
      "cell_type": "code",
      "metadata": {
        "id": "4IVaonWXTy3D",
        "colab_type": "code",
        "colab": {}
      },
      "source": [
        ""
      ],
      "execution_count": 0,
      "outputs": []
    }
  ]
}