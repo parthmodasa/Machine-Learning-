{
  "nbformat": 4,
  "nbformat_minor": 0,
  "metadata": {
    "colab": {
      "name": "SGD_Custom_Implementation (1).ipynb",
      "provenance": [],
      "collapsed_sections": []
    },
    "language_info": {
      "codemirror_mode": {
        "name": "ipython",
        "version": 3
      },
      "file_extension": ".py",
      "mimetype": "text/x-python",
      "name": "python",
      "nbconvert_exporter": "python",
      "pygments_lexer": "ipython3",
      "version": "3.6.8"
    },
    "kernelspec": {
      "display_name": "Python 3",
      "language": "python",
      "name": "python3"
    }
  },
  "cells": [
    {
      "cell_type": "code",
      "metadata": {
        "id": "I2S-uFqwSvmg",
        "colab_type": "code",
        "colab": {}
      },
      "source": [
        "import numpy as np\n",
        "import pandas as pd\n",
        "from sklearn.datasets import make_classification\n",
        "from math import log\n",
        "import math\n",
        "from sklearn.metrics import log_loss"
      ],
      "execution_count": 0,
      "outputs": []
    },
    {
      "cell_type": "code",
      "metadata": {
        "id": "FUxLkBjISvmr",
        "colab_type": "code",
        "colab": {}
      },
      "source": [
        "X, y = make_classification(n_samples=50000, n_features=15, n_informative=10, n_redundant=5,\n",
        "                           n_classes=2, weights=[0.7], class_sep=0.7, random_state=15)"
      ],
      "execution_count": 0,
      "outputs": []
    },
    {
      "cell_type": "code",
      "metadata": {
        "id": "xexp5GYNSvmz",
        "colab_type": "code",
        "outputId": "97160621-547a-4b87-dd52-2b273aeb8ad8",
        "colab": {
          "base_uri": "https://localhost:8080/",
          "height": 34
        }
      },
      "source": [
        "X.shape, y.shape"
      ],
      "execution_count": 3,
      "outputs": [
        {
          "output_type": "execute_result",
          "data": {
            "text/plain": [
              "((50000, 15), (50000,))"
            ]
          },
          "metadata": {
            "tags": []
          },
          "execution_count": 3
        }
      ]
    },
    {
      "cell_type": "markdown",
      "metadata": {
        "id": "54vJVc_KSvm9",
        "colab_type": "text"
      },
      "source": [
        " Split data  into train test split"
      ]
    },
    {
      "cell_type": "code",
      "metadata": {
        "id": "9pKAn1-ASvm_",
        "colab_type": "code",
        "colab": {}
      },
      "source": [
        "from sklearn.model_selection import train_test_split"
      ],
      "execution_count": 0,
      "outputs": []
    },
    {
      "cell_type": "code",
      "metadata": {
        "id": "r97pFTgrSvnE",
        "colab_type": "code",
        "colab": {}
      },
      "source": [
        "X_train, X_test, y_train, y_test = train_test_split(X, y, test_size=0.25, random_state=15)"
      ],
      "execution_count": 0,
      "outputs": []
    },
    {
      "cell_type": "code",
      "metadata": {
        "id": "jykLIXZNSvnJ",
        "colab_type": "code",
        "outputId": "114b92fe-5894-4c0b-ccbe-b153fb37b0c1",
        "colab": {
          "base_uri": "https://localhost:8080/",
          "height": 34
        }
      },
      "source": [
        "X_train.shape, y_train.shape, X_test.shape, y_test.shape"
      ],
      "execution_count": 6,
      "outputs": [
        {
          "output_type": "execute_result",
          "data": {
            "text/plain": [
              "((37500, 15), (37500,), (12500, 15), (12500,))"
            ]
          },
          "metadata": {
            "tags": []
          },
          "execution_count": 6
        }
      ]
    },
    {
      "cell_type": "markdown",
      "metadata": {
        "id": "g0-M6oXASvnO",
        "colab_type": "text"
      },
      "source": [
        " Apply sklearn's SGDClassifier and find weights"
      ]
    },
    {
      "cell_type": "code",
      "metadata": {
        "id": "sShoMeocSvnP",
        "colab_type": "code",
        "colab": {}
      },
      "source": [
        "from sklearn import linear_model"
      ],
      "execution_count": 0,
      "outputs": []
    },
    {
      "cell_type": "code",
      "metadata": {
        "id": "gm6wi8L2SvnU",
        "colab_type": "code",
        "outputId": "e2d08a0c-5fd3-46f0-f479-d01a6f0aac98",
        "colab": {
          "base_uri": "https://localhost:8080/",
          "height": 119
        }
      },
      "source": [
        "# alpha : float\n",
        "# Constant that multiplies the regularization term. \n",
        "\n",
        "# eta0 : double\n",
        "# The initial learning rate for the ‘constant’, ‘invscaling’ or ‘adaptive’ schedules.\n",
        "\n",
        "clf = linear_model.SGDClassifier(eta0=0.0001, alpha=0.0001, loss='log', random_state=15, penalty='l2', tol=1e-3, verbose=2, learning_rate='constant')\n",
        "clf"
      ],
      "execution_count": 8,
      "outputs": [
        {
          "output_type": "execute_result",
          "data": {
            "text/plain": [
              "SGDClassifier(alpha=0.0001, average=False, class_weight=None,\n",
              "              early_stopping=False, epsilon=0.1, eta0=0.0001,\n",
              "              fit_intercept=True, l1_ratio=0.15, learning_rate='constant',\n",
              "              loss='log', max_iter=1000, n_iter_no_change=5, n_jobs=None,\n",
              "              penalty='l2', power_t=0.5, random_state=15, shuffle=True,\n",
              "              tol=0.001, validation_fraction=0.1, verbose=2, warm_start=False)"
            ]
          },
          "metadata": {
            "tags": []
          },
          "execution_count": 8
        }
      ]
    },
    {
      "cell_type": "code",
      "metadata": {
        "id": "Q4WFoxgASvnc",
        "colab_type": "code",
        "outputId": "1bc0fd48-7b22-4513-802f-9c8951121aa9",
        "colab": {
          "base_uri": "https://localhost:8080/",
          "height": 646
        }
      },
      "source": [
        "clf.fit(X=X_train, y=y_train)"
      ],
      "execution_count": 9,
      "outputs": [
        {
          "output_type": "stream",
          "text": [
            "-- Epoch 1\n",
            "Norm: 0.77, NNZs: 15, Bias: -0.316653, T: 37500, Avg. loss: 0.455552\n",
            "Total training time: 0.01 seconds.\n",
            "-- Epoch 2\n",
            "Norm: 0.91, NNZs: 15, Bias: -0.472747, T: 75000, Avg. loss: 0.394686\n",
            "Total training time: 0.02 seconds.\n",
            "-- Epoch 3\n",
            "Norm: 0.98, NNZs: 15, Bias: -0.580082, T: 112500, Avg. loss: 0.385711\n",
            "Total training time: 0.03 seconds.\n",
            "-- Epoch 4\n",
            "Norm: 1.02, NNZs: 15, Bias: -0.658292, T: 150000, Avg. loss: 0.382083\n",
            "Total training time: 0.04 seconds.\n",
            "-- Epoch 5\n",
            "Norm: 1.04, NNZs: 15, Bias: -0.719528, T: 187500, Avg. loss: 0.380486\n",
            "Total training time: 0.05 seconds.\n",
            "-- Epoch 6\n",
            "Norm: 1.05, NNZs: 15, Bias: -0.763409, T: 225000, Avg. loss: 0.379578\n",
            "Total training time: 0.06 seconds.\n",
            "-- Epoch 7\n",
            "Norm: 1.06, NNZs: 15, Bias: -0.795106, T: 262500, Avg. loss: 0.379150\n",
            "Total training time: 0.07 seconds.\n",
            "-- Epoch 8\n",
            "Norm: 1.06, NNZs: 15, Bias: -0.819925, T: 300000, Avg. loss: 0.378856\n",
            "Total training time: 0.08 seconds.\n",
            "-- Epoch 9\n",
            "Norm: 1.07, NNZs: 15, Bias: -0.837805, T: 337500, Avg. loss: 0.378585\n",
            "Total training time: 0.09 seconds.\n",
            "-- Epoch 10\n",
            "Norm: 1.08, NNZs: 15, Bias: -0.853138, T: 375000, Avg. loss: 0.378630\n",
            "Total training time: 0.10 seconds.\n",
            "Convergence after 10 epochs took 0.10 seconds\n"
          ],
          "name": "stdout"
        },
        {
          "output_type": "execute_result",
          "data": {
            "text/plain": [
              "SGDClassifier(alpha=0.0001, average=False, class_weight=None,\n",
              "              early_stopping=False, epsilon=0.1, eta0=0.0001,\n",
              "              fit_intercept=True, l1_ratio=0.15, learning_rate='constant',\n",
              "              loss='log', max_iter=1000, n_iter_no_change=5, n_jobs=None,\n",
              "              penalty='l2', power_t=0.5, random_state=15, shuffle=True,\n",
              "              tol=0.001, validation_fraction=0.1, verbose=2, warm_start=False)"
            ]
          },
          "metadata": {
            "tags": []
          },
          "execution_count": 9
        }
      ]
    },
    {
      "cell_type": "markdown",
      "metadata": {
        "id": "UOBvEchCSvnr",
        "colab_type": "text"
      },
      "source": [
        "## Implement Logistc Regression with L2 regularization Using SGD: without using sklearn"
      ]
    },
    {
      "cell_type": "markdown",
      "metadata": {
        "id": "Xbn61rrXSvnt",
        "colab_type": "text"
      },
      "source": [
        "### Instructions"
      ]
    },
    {
      "cell_type": "markdown",
      "metadata": {
        "id": "14bA5yR3Svnv",
        "colab_type": "text"
      },
      "source": [
        "- Load the datasets(train and test) into the respective arrays"
      ]
    },
    {
      "cell_type": "markdown",
      "metadata": {
        "id": "c7183hFBSvnv",
        "colab_type": "text"
      },
      "source": [
        "- Initialize the weight_vector and intercept term randomly"
      ]
    },
    {
      "cell_type": "markdown",
      "metadata": {
        "id": "hdLeFU0USvnx",
        "colab_type": "text"
      },
      "source": [
        "- Calculate the initlal log loss for the train and test data with the current weight and intercept and store it in a list"
      ]
    },
    {
      "cell_type": "markdown",
      "metadata": {
        "id": "pEVtAlO1Svny",
        "colab_type": "text"
      },
      "source": [
        "- for each epoch:\n",
        "    - for each batch of data points in train: (keep batch size=1)\n",
        "        - calculate the gradient of loss function w.r.t each weight in weight vector\n",
        "        - Calculate the gradient of the intercept <a href='https://drive.google.com/file/d/1nQ08-XY4zvOLzRX-lGf8EYB5arb7-m1H/view?usp=sharing'>check this</a>\n",
        "        - Update weights and intercept (check the equation number 32 in the above mentioned <a href='https://drive.google.com/file/d/1nQ08-XY4zvOLzRX-lGf8EYB5arb7-m1H/view?usp=sharing'>pdf</a>): <br>\n",
        "        $w^{(t+1)} ← (1 − \\frac{αλ}{N} )w^{(t)} + αx_n(y_n − σ((w^{(t)})^{T} x_n+b^{t}))$ <br>\n",
        "        $b^{(t+1)} ← (b^t +  α(y_n - σ((w^{(t)})^{T} x_n+b^{t}))$ \n",
        "        - calculate the log loss for train and test with the updated weights (you can check the python assignment 10th question)\n",
        "        - And if you wish, you can compare the previous loss and the current loss, if it is not updating, then\n",
        "        you can stop the training\n",
        "        - append this loss in the list ( this will be used to see how loss is changing for each epoch after the training is over )\n"
      ]
    },
    {
      "cell_type": "markdown",
      "metadata": {
        "id": "2qmRH4UpSvny",
        "colab_type": "text"
      },
      "source": [
        "- Plot the train and test loss i.e on x-axis the epoch number, and on y-axis the loss"
      ]
    },
    {
      "cell_type": "markdown",
      "metadata": {
        "id": "lbZf9p5gSvn1",
        "colab_type": "text"
      },
      "source": [
        "- <strong>GOAL</strong>: compare your implementation and SGDClassifier's the weights and intercept, make sure they are as close as possible i.e difference should be in terms of 10^-3"
      ]
    },
    {
      "cell_type": "markdown",
      "metadata": {
        "id": "Dibqijy65sV8",
        "colab_type": "text"
      },
      "source": [
        "Sigmoid"
      ]
    },
    {
      "cell_type": "code",
      "metadata": {
        "id": "d8neHBuj5zkm",
        "colab_type": "code",
        "colab": {}
      },
      "source": [
        "def sigmoid(w,x,b):\n",
        "  Z = np.dot(w,x)+b\n",
        "  return(1/(1 + np.exp(-Z)))"
      ],
      "execution_count": 0,
      "outputs": []
    },
    {
      "cell_type": "code",
      "metadata": {
        "id": "Ejm-hPJd6Fpf",
        "colab_type": "code",
        "colab": {}
      },
      "source": [
        "def mod(w):\n",
        "  sum1 = 0\n",
        "  for i in w:\n",
        "    sum1  = sum1 + i*i\n",
        "  return(math.sqrt(sum1)) "
      ],
      "execution_count": 0,
      "outputs": []
    },
    {
      "cell_type": "markdown",
      "metadata": {
        "id": "4Vu4_9755x0p",
        "colab_type": "text"
      },
      "source": [
        "Initialize values"
      ]
    },
    {
      "cell_type": "code",
      "metadata": {
        "id": "7kX_Te59jMB7",
        "colab_type": "code",
        "colab": {}
      },
      "source": [
        "w = np.zeros_like(X_train[0])\n",
        "b = 0\n",
        "eta0  = 0.0001\n",
        "alpha = 0.0001\n",
        "N = len(X_train)"
      ],
      "execution_count": 0,
      "outputs": []
    },
    {
      "cell_type": "markdown",
      "metadata": {
        "id": "70cahnl2mMHk",
        "colab_type": "text"
      },
      "source": [
        "Find initial loss and append it to list"
      ]
    },
    {
      "cell_type": "code",
      "metadata": {
        "id": "GXqEW-q1mLxe",
        "colab_type": "code",
        "colab": {}
      },
      "source": [
        "TRAIN_LOSS = []\n",
        "TEST_LOSS = []\n",
        "\n",
        "\n",
        "#Train loss\n",
        "loss = 0\n",
        "for i in range(len(X_train)):\n",
        "  loss += (np.log(sigmoid(w,X_train[i],b)) * y_train[i] + np.log(1 - sigmoid(w,X_train[i],b)) * (1 - y_train[i]))\n",
        "loss = (-1)*loss/len(X_train) \n",
        "TRAIN_LOSS.append(loss)\n",
        "\n",
        "#Test Loss\n",
        "loss = 0\n",
        "for i in range(len(X_test)):\n",
        "  loss += (np.log(sigmoid(w,X_test[i],b)) * y_test[i] + np.log(1 - sigmoid(w,X_test[i],b)) * (1 - y_test[i]))\n",
        "loss = (-1)*loss/len(X_test) \n",
        "TEST_LOSS.append(loss)"
      ],
      "execution_count": 0,
      "outputs": []
    },
    {
      "cell_type": "markdown",
      "metadata": {
        "id": "AzBpoUbKO2mo",
        "colab_type": "text"
      },
      "source": [
        "Apply algorithm to find weights and loss"
      ]
    },
    {
      "cell_type": "code",
      "metadata": {
        "id": "o6v1sMMm52m4",
        "colab_type": "code",
        "colab": {}
      },
      "source": [
        "from sklearn.metrics import log_loss\n",
        "l = len(X_train)\n",
        "for ep in range(20):\n",
        "\n",
        "  '''Update weights and intercept for each point'''\n",
        "  for i in range(len(X_train)):\n",
        "    w = (1 - (0.0001)/l)*w + 0.0001 * X_train[i] * (y_train[i] - sigmoid(w,X_train[i],b))\n",
        "    \n",
        "    b = b + 0.0001*(y_train[i]-sigmoid(w,X_train[i],b))\n",
        "\n",
        "  ''' Find Loss'''\n",
        "  #Train loss\n",
        "  loss = 0\n",
        "  for i in range(len(X_train)):\n",
        "    loss += (np.log(sigmoid(w,X_train[i],b)) * y_train[i] + np.log(1 - sigmoid(w,X_train[i],b)) * (1 - y_train[i]))\n",
        "  loss = (-1)*loss/len(X_train) \n",
        "  TRAIN_LOSS.append(loss)\n",
        "\n",
        "  #Test Loss\n",
        "  loss = 0\n",
        "  for i in range(len(X_test)):\n",
        "    loss += (np.log(sigmoid(w,X_test[i],b)) * y_test[i] + np.log(1 - sigmoid(w,X_test[i],b)) * (1 - y_test[i]))\n",
        "  loss = (-1)*loss/len(X_test) \n",
        "  TEST_LOSS.append(loss)"
      ],
      "execution_count": 0,
      "outputs": []
    },
    {
      "cell_type": "markdown",
      "metadata": {
        "id": "mn6bV78QOGC7",
        "colab_type": "text"
      },
      "source": [
        "Print weights and intercept of model"
      ]
    },
    {
      "cell_type": "code",
      "metadata": {
        "id": "2tnOSoT1OFvc",
        "colab_type": "code",
        "colab": {
          "base_uri": "https://localhost:8080/",
          "height": 102
        },
        "outputId": "0a9eded7-0972-4c81-c592-aa4010af2098"
      },
      "source": [
        "print(\"Weights are :\",w)\n",
        "\n",
        "print(\"Intercept :\" ,b)"
      ],
      "execution_count": 72,
      "outputs": [
        {
          "output_type": "stream",
          "text": [
            "Weights are : [-4.29288445e-01  1.92871197e-01 -1.48268287e-01  3.38050859e-01\n",
            " -2.20618116e-01  5.69556730e-01 -4.45141511e-01 -9.00148624e-02\n",
            "  2.21541575e-01  1.73523343e-01  1.98483126e-01 -3.89253433e-04\n",
            " -8.10827249e-02  3.39028140e-01  2.29311637e-02]\n",
            "Intercept : -0.8893357037092375\n"
          ],
          "name": "stdout"
        }
      ]
    },
    {
      "cell_type": "markdown",
      "metadata": {
        "id": "lHcqMp6gAGIN",
        "colab_type": "text"
      },
      "source": [
        "Train LOSS vs Test LOSS"
      ]
    },
    {
      "cell_type": "code",
      "metadata": {
        "id": "MQUZVIT3AWEq",
        "colab_type": "code",
        "outputId": "5fe735d2-4932-4e48-ec4a-48639543c6aa",
        "colab": {
          "base_uri": "https://localhost:8080/",
          "height": 295
        }
      },
      "source": [
        "import matplotlib.pyplot as plt\n",
        "plt.scatter([i for i in range(21)] ,TRAIN_LOSS, alpha=0.5)\n",
        "plt.scatter([i for i in range(21)] ,TEST_LOSS, alpha=0.5)\n",
        "plt.title('LOSS changes as per epoches')\n",
        "plt.xlabel('epoches')\n",
        "plt.ylabel('LOSS')\n",
        "plt.show()"
      ],
      "execution_count": 68,
      "outputs": [
        {
          "output_type": "display_data",
          "data": {
            "image/png": "[encoded data removed]",
            "text/plain": [
              "<Figure size 432x288 with 1 Axes>"
            ]
          },
          "metadata": {
            "tags": []
          }
        }
      ]
    },
    {
      "cell_type": "code",
      "metadata": {
        "id": "fd25i9n5i53o",
        "colab_type": "code",
        "outputId": "6af61649-6e36-445f-a4af-1243b1a37f80",
        "colab": {
          "base_uri": "https://localhost:8080/",
          "height": 71
        }
      },
      "source": [
        "print(TRAIN_LOSS)\n",
        "print(TEST_LOSS)"
      ],
      "execution_count": 69,
      "outputs": [
        {
          "output_type": "stream",
          "text": [
            "[0.6931471805594285, 0.40403483540154406, 0.38840566283891775, 0.3831502802782614, 0.38078871559282973, 0.379607672225668, 0.37898564992939876, 0.3786485612275279, 0.378462691564947, 0.3783590220296394, 0.37830072273472676, 0.37826772813870235, 0.37824895464056285, 0.3782382205698343, 0.37823205354111267, 0.3782284922246273, 0.37822642377879395, 0.37822521431092593, 0.37822450142930525, 0.37822407720132234, 0.37822382185251546]\n",
            "[0.6931471805600672, 0.4051805305933462, 0.390082036516956, 0.38502563017730945, 0.3827437054953831, 0.38159384442002586, 0.3809828490732264, 0.38064856398667934, 0.3804623679553379, 0.38035738397577284, 0.3802976393667366, 0.3802633727664767, 0.38024357524785823, 0.38023205220637907, 0.38022529124297644, 0.3802212882173815, 0.38021889316530333, 0.3802174426735918, 0.3802165518697225, 0.38021599608955914, 0.3802156432528444]\n"
          ],
          "name": "stdout"
        }
      ]
    },
    {
      "cell_type": "markdown",
      "metadata": {
        "id": "bVU5AoRvo3jM",
        "colab_type": "text"
      },
      "source": [
        "#Compare weights and intercept"
      ]
    },
    {
      "cell_type": "code",
      "metadata": {
        "id": "xjNtPTuMFqLb",
        "colab_type": "code",
        "colab": {
          "base_uri": "https://localhost:8080/",
          "height": 85
        },
        "outputId": "6ab51fb4-5b24-45fd-a44e-755cfb980161"
      },
      "source": [
        "w-clf.coef_, b-clf.intercept_"
      ],
      "execution_count": 70,
      "outputs": [
        {
          "output_type": "execute_result",
          "data": {
            "text/plain": [
              "(array([[-0.00592153,  0.00739555,  0.00032207, -0.00339321, -0.01243141,\n",
              "          0.00939094,  0.00728331,  0.00407327,  0.01226838, -0.00731792,\n",
              "          0.00143122, -0.00460841, -0.00147903,  0.00050012,  0.00026395]]),\n",
              " array([-0.03619741]))"
            ]
          },
          "metadata": {
            "tags": []
          },
          "execution_count": 70
        }
      ]
    },
    {
      "cell_type": "code",
      "metadata": {
        "id": "48gx6wQKSvoE",
        "colab_type": "code",
        "outputId": "e0170219-3dbf-4203-87be-ce777816bc54",
        "colab": {
          "base_uri": "https://localhost:8080/",
          "height": 51
        }
      },
      "source": [
        "def pred(w,b, X):\n",
        "    N = len(X)\n",
        "    predict = []\n",
        "    for i in range(N):\n",
        "        if sigmoid(w, X[i], b) >= 0.5: # sigmoid(w,x,b) returns 1/(1+exp(-(dot(x,w)+b)))\n",
        "            predict.append(1)\n",
        "        else:\n",
        "            predict.append(0)\n",
        "    return np.array(predict)\n",
        "print(1-np.sum(y_train - pred(w,b,X_train))/len(X_train))\n",
        "print(1-np.sum(y_test  - pred(w,b,X_test))/len(X_test))"
      ],
      "execution_count": 64,
      "outputs": [
        {
          "output_type": "stream",
          "text": [
            "0.9524266666666666\n",
            "0.95024\n"
          ],
          "name": "stdout"
        }
      ]
    }
  ]
}