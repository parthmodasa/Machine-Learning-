{
  "nbformat": 4,
  "nbformat_minor": 0,
  "metadata": {
    "colab": {
      "provenance": [],
      "collapsed_sections": []
    },
    "kernelspec": {
      "name": "python3",
      "display_name": "Python 3"
    },
    "language_info": {
      "name": "python"
    }
  },
  "cells": [
    {
      "cell_type": "code",
      "source": [
        "! pip install --upgrade xlrd"
      ],
      "metadata": {
        "colab": {
          "base_uri": "https://localhost:8080/",
          "height": 295
        },
        "id": "ubjcS9Gt6HAQ",
        "outputId": "f3a5a81e-11aa-4c54-fecc-0c9a54e0caff"
      },
      "execution_count": null,
      "outputs": [
        {
          "output_type": "stream",
          "name": "stdout",
          "text": [
            "Looking in indexes: https://pypi.org/simple, https://us-python.pkg.dev/colab-wheels/public/simple/\n",
            "Requirement already satisfied: xlrd in /usr/local/lib/python3.7/dist-packages (1.1.0)\n",
            "Collecting xlrd\n",
            "  Downloading xlrd-2.0.1-py2.py3-none-any.whl (96 kB)\n",
            "\u001b[K     |████████████████████████████████| 96 kB 2.6 MB/s \n",
            "\u001b[?25hInstalling collected packages: xlrd\n",
            "  Attempting uninstall: xlrd\n",
            "    Found existing installation: xlrd 1.1.0\n",
            "    Uninstalling xlrd-1.1.0:\n",
            "      Successfully uninstalled xlrd-1.1.0\n",
            "Successfully installed xlrd-2.0.1\n"
          ]
        },
        {
          "output_type": "display_data",
          "data": {
            "application/vnd.colab-display-data+json": {
              "pip_warning": {
                "packages": [
                  "xlrd"
                ]
              }
            }
          },
          "metadata": {}
        }
      ]
    },
    {
      "cell_type": "code",
      "source": [
        "! pip install openpyxl"
      ],
      "metadata": {
        "id": "40DceWBHBBUF"
      },
      "execution_count": null,
      "outputs": []
    },
    {
      "cell_type": "code",
      "execution_count": null,
      "metadata": {
        "id": "UYT_LnjNvW_G"
      },
      "outputs": [],
      "source": [
        "import pandas as pd\n",
        "xls = pd.ExcelFile('/Sample.xlsx')"
      ]
    },
    {
      "cell_type": "code",
      "source": [
        "df_product = pd.read_excel(xls, 'Product')\n",
        "df_vantage = pd.read_excel(xls, 'Vantage')\n",
        "df_income = pd.read_excel(xls, 'Income')\n",
        "df_origination = pd.read_excel(xls, 'Origination')\n",
        "df_monthlyPmt = pd.read_excel(xls, 'MonthlyPmt')\n",
        "df_activity = pd.read_excel(xls,'Activity')\n",
        "df_status = pd.read_excel(xls,'Status')\n",
        "df_taps = pd.read_excel(xls,'TAPS')\n",
        "df_eirc = pd.read_excel(xls,'EIRC')\n",
        "df_dti = pd.read_excel(xls,'DTI')"
      ],
      "metadata": {
        "id": "15DJpwHA3k4H"
      },
      "execution_count": null,
      "outputs": []
    },
    {
      "cell_type": "code",
      "source": [
        "#Product\n",
        "df_product['group'] = df_product['company_name'] + '_' + df_product['product_pfilters_condensed']\n",
        "group = df_product.pop('group')\n",
        "df_product.insert(0, 'group', group)\n",
        "del df_product['company_name'],df_product['product_pfilters_condensed']"
      ],
      "metadata": {
        "id": "qDHHe8XR4IcH"
      },
      "execution_count": null,
      "outputs": []
    },
    {
      "cell_type": "code",
      "source": [
        "#Ventage\n",
        "df_vantage['group']= df_vantage['company_name']+'_'+df_vantage['product_pfilters_condensed']+'-'+df_vantage['vs4_segment']\n",
        "group = df_vantage.pop('group')\n",
        "df_vantage.insert(0, 'group', group)\n",
        "del df_vantage['company_name'],df_vantage['product_pfilters_condensed'],df_vantage['vs4_segment']"
      ],
      "metadata": {
        "id": "w7bsRx8iAb8F"
      },
      "execution_count": null,
      "outputs": []
    },
    {
      "cell_type": "code",
      "source": [
        "#Income\n",
        "df_income['group']= df_income['company_name']+'_'+df_income['product_pfilters_condensed']+'_'+df_income['iiw2_segment_new']\n",
        "group = df_income.pop('group')\n",
        "df_income.insert(0, 'group', group)\n",
        "del df_income['company_name'],df_income['product_pfilters_condensed'],df_income['iiw2_segment_new']"
      ],
      "metadata": {
        "id": "RSAKyOwyEhhU"
      },
      "execution_count": null,
      "outputs": []
    },
    {
      "cell_type": "code",
      "source": [
        "#Origination\n",
        "df_origination['group']= df_origination['company_name']+'_'+df_origination['product_pfilters_condensed']+'_'+df_origination['orig_amount_segment_new2']\n",
        "group = df_origination.pop('group')\n",
        "df_origination.insert(0, 'group', group)\n",
        "del df_origination['company_name'],df_origination['product_pfilters_condensed'],df_origination['orig_amount_segment_new2']"
      ],
      "metadata": {
        "id": "oI-6oyo1Gelr"
      },
      "execution_count": null,
      "outputs": []
    },
    {
      "cell_type": "code",
      "source": [
        "#MonthlyPmt\n",
        "df_monthlyPmt['group']= df_monthlyPmt['company_name']+'_'+df_monthlyPmt['product_pfilters_condensed']+'_'+df_monthlyPmt['monthly_pmt_segment_new2']\n",
        "group = df_monthlyPmt.pop('group')\n",
        "df_monthlyPmt.insert(0, 'group', group)\n",
        "del df_monthlyPmt['company_name'],df_monthlyPmt['product_pfilters_condensed'],df_monthlyPmt['monthly_pmt_segment_new2']"
      ],
      "metadata": {
        "id": "d6j1GoMwC9VZ"
      },
      "execution_count": null,
      "outputs": []
    },
    {
      "cell_type": "code",
      "source": [
        "#Activity\n",
        "df_activity['group']= df_activity['company_name']+'_'+df_activity['product_pfilters_condensed']+'_'+df_activity['acct_activity']\n",
        "group = df_activity.pop('group')\n",
        "df_activity.insert(0, 'group', group)\n",
        "del df_activity['company_name'],df_activity['product_pfilters_condensed'],df_activity['acct_activity']"
      ],
      "metadata": {
        "id": "0LZXA6q9ITy_"
      },
      "execution_count": null,
      "outputs": []
    },
    {
      "cell_type": "code",
      "source": [
        "#Status\n",
        "df_status['group']= df_status['company_name']+'_'+df_status['product_pfilters_condensed']+'_'+df_status['present_status_segment_new2']\n",
        "group = df_status.pop('group')\n",
        "df_status.insert(0, 'group', group)\n",
        "del df_status['company_name'],df_status['product_pfilters_condensed'],df_status['present_status_segment_new2']"
      ],
      "metadata": {
        "id": "3NKEcPAUI7e3"
      },
      "execution_count": null,
      "outputs": []
    },
    {
      "cell_type": "code",
      "source": [
        "#TAPS\n",
        "df_taps['group']= df_taps['company_name']+'_'+df_taps['product_pfilters_condensed']+'_'+df_taps['taps4_segment_new']\n",
        "group = df_taps.pop('group')\n",
        "df_taps.insert(0, 'group', group)\n",
        "del df_taps['company_name'],df_taps['product_pfilters_condensed'],df_taps['taps4_segment_new']"
      ],
      "metadata": {
        "id": "je__qNDTI7bQ"
      },
      "execution_count": null,
      "outputs": []
    },
    {
      "cell_type": "code",
      "source": [
        "#EIRC\n",
        "df_eirc['group']= df_eirc['company_name']+'_'+df_eirc['product_pfilters_condensed']+'_'+df_eirc['eirc_yield_segment_new2']\n",
        "group = df_eirc.pop('group')\n",
        "df_eirc.insert(0, 'group', group)\n",
        "del df_eirc['company_name'],df_eirc['product_pfilters_condensed'],df_eirc['eirc_yield_segment_new2']"
      ],
      "metadata": {
        "id": "EVkbuRcuKDeM"
      },
      "execution_count": null,
      "outputs": []
    },
    {
      "cell_type": "code",
      "source": [
        "#DTI\n",
        "df_dti['group']= df_dti['company_name']+'_'+df_dti['product_pfilters_condensed']+'_'+df_dti['dti_segment_new']\n",
        "group = df_dti.pop('group')\n",
        "df_dti.insert(0, 'group', group)\n",
        "del df_dti['company_name'],df_dti['product_pfilters_condensed'],df_dti['dti_segment_new']"
      ],
      "metadata": {
        "id": "bjjIP2sQKDPW"
      },
      "execution_count": null,
      "outputs": []
    },
    {
      "cell_type": "code",
      "source": [
        "import pandas\n",
        "from openpyxl import load_workbook\n",
        "\n",
        "book = load_workbook('Sample_file')\n",
        "writer = pandas.ExcelWriter('Sample_file', engine='openpyxl') \n",
        "writer.book = book\n",
        "\n",
        "writer.sheets = dict((ws.title, ws) for ws in book.worksheets)\n",
        "\n",
        "df_product.to_excel(writer, \"Product\",index=False)\n",
        "df_vantage.to_excel(writer, \"Vantage\",index=False)\n",
        "df_income.to_excel(writer,\"Income\",index=False)\n",
        "df_origination.to_excel(writer,\"Origination\",index=False)\n",
        "df_monthlyPmt.to_excel(writer,\"MonthlyPmt\",index=False)\n",
        "df_activity.to_excel(writer,\"Activity\",index=False)\n",
        "df_status.to_excel(writer,\"Status\",index=False)\n",
        "df_taps.to_excel(writer,\"TAPS\",index=False)\n",
        "df_eirc.to_excel(writer,\"ERIC\",index=False)\n",
        "df_dti.to_excel(writer,\"DTI\",index=False)\n",
        "writer.save()"
      ],
      "metadata": {
        "colab": {
          "base_uri": "https://localhost:8080/"
        },
        "id": "NvagUs7C8aWt",
        "outputId": "a509aa0d-0de7-4abe-e850-04dbeabe34ff"
      },
      "execution_count": null,
      "outputs": [
        {
          "output_type": "stream",
          "name": "stderr",
          "text": [
            "/usr/local/lib/python3.7/dist-packages/openpyxl/worksheet/_reader.py:312: UserWarning: Unknown extension is not supported and will be removed\n",
            "  warn(msg)\n",
            "/usr/local/lib/python3.7/dist-packages/openpyxl/worksheet/_reader.py:312: UserWarning: Conditional Formatting extension is not supported and will be removed\n",
            "  warn(msg)\n",
            "/usr/local/lib/python3.7/dist-packages/openpyxl/worksheet/_reader.py:312: UserWarning: Data Validation extension is not supported and will be removed\n",
            "  warn(msg)\n"
          ]
        }
      ]
    },
    {
      "cell_type": "code",
      "source": [],
      "metadata": {
        "id": "o-oOrtNTBEHH"
      },
      "execution_count": null,
      "outputs": []
    }
  ]
}